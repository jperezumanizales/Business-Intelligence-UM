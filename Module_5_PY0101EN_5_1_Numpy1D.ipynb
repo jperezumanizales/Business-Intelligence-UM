{
  "cells": [
    {
      "cell_type": "markdown",
      "metadata": {
        "id": "view-in-github",
        "colab_type": "text"
      },
      "source": [
        "<a href=\"https://colab.research.google.com/github/jperezumanizales/Fundamentos-de-programacion-Noche/blob/main/Module_5_PY0101EN_5_1_Numpy1D.ipynb\" target=\"_parent\"><img src=\"https://colab.research.google.com/assets/colab-badge.svg\" alt=\"Open In Colab\"/></a>"
      ]
    },
    {
      "cell_type": "markdown",
      "metadata": {
        "id": "NRwxCo6WJtS-"
      },
      "source": [
        "<center>\n",
        "    <img src=\"https://cf-courses-data.s3.us.cloud-object-storage.appdomain.cloud/IBMDeveloperSkillsNetwork-PY0101EN-SkillsNetwork/IDSNlogo.png\" width=\"300\" alt=\"cognitiveclass.ai logo\"  />\n",
        "</center>\n",
        "\n",
        "# 1D Numpy in Python\n",
        "\n",
        "Estimated time needed: **30** minutes\n",
        "\n",
        "## Objectives\n",
        "\n",
        "After completing this lab you will be able to:\n",
        "\n",
        "*   Import and use the `numpy` library\n",
        "*   Perform operations with `numpy`\n"
      ]
    },
    {
      "cell_type": "markdown",
      "metadata": {
        "id": "Q5kHEI0iJtTD"
      },
      "source": [
        "<h2>Table of Contents</h2>\n",
        "<div class=\"alert alert-block alert-info\" style=\"margin-thttps://https://https://op/?utm_medium=Exinfluencer&utm_source=Exinfluencer&utm_content=000026UJ&utm_term=10006555&utm_id=NA-SkillsNetwork-Channel-SkillsNetworkCoursesIBMDeveloperSkillsNetworkPY0101ENSkillsNetwork19487395-2022-01-01/?utm_medium=Exinfluencer&utm_source=Exinfluencer&utm_content=000026UJ&utm_term=10006555&utm_id=NA-SkillsNetwork-Channel-SkillsNetworkCoursesIBMDeveloperSkillsNetworkPY0101ENSkillsNetwork19487395-2021-01-01/?utm_medium=Exinfluencer&utm_source=Exinfluencer&utm_content=000026UJ&utm_term=10006555&utm_id=NA-SkillsNetwork-Channel-SkillsNetworkCoursesIBMDeveloperSkillsNetworkPY0101ENSkillsNetwork19487395-2021-01-01: 20px\">\n",
        "    <ul>\n",
        "        <li><a href=\"https://pre/?utm_medium=Exinfluencer&utm_source=Exinfluencer&utm_content=000026UJ&utm_term=10006555&utm_id=NA-SkillsNetwork-Channel-SkillsNetworkCoursesIBMDeveloperSkillsNetworkPY0101ENSkillsNetwork19487395-2021-01-01\">List in Python</a></li>\n",
        "        <li>\n",
        "            <a href=\"https://numpy/?utm_medium=Exinfluencer&utm_source=Exinfluencer&utm_content=000026UJ&utm_term=10006555&utm_id=NA-SkillsNetwork-Channel-SkillsNetworkCoursesIBMDeveloperSkillsNetworkPY0101ENSkillsNetwork19487395-2021-01-01\">What is Numpy?</a>\n",
        "            <ul>\n",
        "                <li><a href=\"https://type/?utm_medium=Exinfluencer&utm_source=Exinfluencer&utm_content=000026UJ&utm_term=10006555&utm_id=NA-SkillsNetwork-Channel-SkillsNetworkCoursesIBMDeveloperSkillsNetworkPY0101ENSkillsNetwork19487395-2021-01-01\">Type</a></li>\n",
        "                <li><a href=\"https://val/?utm_medium=Exinfluencer&utm_source=Exinfluencer&utm_content=000026UJ&utm_term=10006555&utm_id=NA-SkillsNetwork-Channel-SkillsNetworkCoursesIBMDeveloperSkillsNetworkPY0101ENSkillsNetwork19487395-2021-01-01\">Assign Value</a></li>\n",
        "                <li><a href=\"https://slice/?utm_medium=Exinfluencer&utm_source=Exinfluencer&utm_content=000026UJ&utm_term=10006555&utm_id=NA-SkillsNetwork-Channel-SkillsNetworkCoursesIBMDeveloperSkillsNetworkPY0101ENSkillsNetwork19487395-2021-01-01\">Slicing</a></li>\n",
        "                <li><a href=\"https://list/?utm_medium=Exinfluencer&utm_source=Exinfluencer&utm_content=000026UJ&utm_term=10006555&utm_id=NA-SkillsNetwork-Channel-SkillsNetworkCoursesIBMDeveloperSkillsNetworkPY0101ENSkillsNetwork19487395-2021-01-01\">Assign Value with List</a></li>\n",
        "                <li><a href=\"https://other/?utm_medium=Exinfluencer&utm_source=Exinfluencer&utm_content=000026UJ&utm_term=10006555&utm_id=NA-SkillsNetwork-Channel-SkillsNetworkCoursesIBMDeveloperSkillsNetworkPY0101ENSkillsNetwork19487395-2021-01-01\">Other Attributes</a></li>\n",
        "            </ul>\n",
        "        </li>\n",
        "        <li>\n",
        "            <a href=\"op\">Numpy Array Operations</a>\n",
        "            <ul>\n",
        "                <li><a href=\"https://add/?utm_medium=Exinfluencer&utm_source=Exinfluencer&utm_content=000026UJ&utm_term=10006555&utm_id=NA-SkillsNetwork-Channel-SkillsNetworkCoursesIBMDeveloperSkillsNetworkPY0101ENSkillsNetwork19487395-2021-01-01\">Array Addition</a></li>\n",
        "                <li><a href=\"https://multi/?utm_medium=Exinfluencer&utm_source=Exinfluencer&utm_content=000026UJ&utm_term=10006555&utm_id=NA-SkillsNetwork-Channel-SkillsNetworkCoursesIBMDeveloperSkillsNetworkPY0101ENSkillsNetwork19487395-2021-01-01\">Array Multiplication</a></li>\n",
        "                <li><a href=\"https://prod/?utm_medium=Exinfluencer&utm_source=Exinfluencer&utm_content=000026UJ&utm_term=10006555&utm_id=NA-SkillsNetwork-Channel-SkillsNetworkCoursesIBMDeveloperSkillsNetworkPY0101ENSkillsNetwork19487395-2021-01-01\">Product of Two Numpy Arrays</a></li>\n",
        "                <li><a href=\"https://dot/?utm_medium=Exinfluencer&utm_source=Exinfluencer&utm_content=000026UJ&utm_term=10006555&utm_id=NA-SkillsNetwork-Channel-SkillsNetworkCoursesIBMDeveloperSkillsNetworkPY0101ENSkillsNetwork19487395-2021-01-01\">Dot Product</a></li>\n",
        "                <li><a href=\"https://cons/?utm_medium=Exinfluencer&utm_source=Exinfluencer&utm_content=000026UJ&utm_term=10006555&utm_id=NA-SkillsNetwork-Channel-SkillsNetworkCoursesIBMDeveloperSkillsNetworkPY0101ENSkillsNetwork19487395-2021-01-01\">Adding Constant to a Numpy Array</a></li>\n",
        "            </ul>\n",
        "        </li>\n",
        "        <li><a href=\"https://math/?utm_medium=Exinfluencer&utm_source=Exinfluencer&utm_content=000026UJ&utm_term=10006555&utm_id=NA-SkillsNetwork-Channel-SkillsNetworkCoursesIBMDeveloperSkillsNetworkPY0101ENSkillsNetwork19487395-2021-01-01\">Mathematical Functions</a></li>\n",
        "        <li><a href=\"https://lin/?utm_medium=Exinfluencer&utm_source=Exinfluencer&utm_content=000026UJ&utm_term=10006555&utm_id=NA-SkillsNetwork-Channel-SkillsNetworkCoursesIBMDeveloperSkillsNetworkPY0101ENSkillsNetwork19487395-2021-01-01\">Linspace</a></li>\n",
        "    </ul>\n",
        "\n",
        "</div>\n",
        "\n",
        "<hr>\n"
      ]
    },
    {
      "cell_type": "markdown",
      "metadata": {
        "id": "Bc1yc_aQJtTF"
      },
      "source": [
        "### Create a Python List as follows:\n"
      ]
    },
    {
      "cell_type": "code",
      "execution_count": 1,
      "metadata": {
        "id": "TxkGFtePJtTG"
      },
      "outputs": [],
      "source": [
        "# Create a python list\n",
        "\n",
        "a = [\"0\", 1, \"two\", \"3\", 4]"
      ]
    },
    {
      "cell_type": "markdown",
      "metadata": {
        "id": "KS2RVZ9sJtTH"
      },
      "source": [
        "We can access the data via an index:\n"
      ]
    },
    {
      "cell_type": "markdown",
      "metadata": {
        "id": "K0lIukDHJtTI"
      },
      "source": [
        "<img src=\"https://cf-courses-data.s3.us.cloud-object-storage.appdomain.cloud/IBMDeveloperSkillsNetwork-PY0101EN-SkillsNetwork/labs/Module%205/images/NumOneList.png\" width=\"660\" />\n"
      ]
    },
    {
      "cell_type": "markdown",
      "metadata": {
        "id": "FcIOwZowJtTI"
      },
      "source": [
        "We can access each element using a square bracket as follows:\n"
      ]
    },
    {
      "cell_type": "code",
      "execution_count": 2,
      "metadata": {
        "id": "CEh-ORjtJtTJ",
        "outputId": "776a8d54-6cf1-4a4f-cc64-7bab6bec0164",
        "colab": {
          "base_uri": "https://localhost:8080/"
        }
      },
      "outputs": [
        {
          "output_type": "stream",
          "name": "stdout",
          "text": [
            "a[0]: 0\n",
            "a[1]: 1\n",
            "a[2]: two\n",
            "a[3]: 3\n",
            "a[4]: 4\n"
          ]
        }
      ],
      "source": [
        "# Print each element\n",
        "\n",
        "print(\"a[0]:\", a[0])\n",
        "print(\"a[1]:\", a[1])\n",
        "print(\"a[2]:\", a[2])\n",
        "print(\"a[3]:\", a[3])\n",
        "print(\"a[4]:\", a[4])"
      ]
    },
    {
      "cell_type": "markdown",
      "metadata": {
        "id": "RSQNfXtAJtTJ"
      },
      "source": [
        "<hr>\n"
      ]
    },
    {
      "cell_type": "markdown",
      "metadata": {
        "id": "xCOafgjXJtTK"
      },
      "source": [
        "<h2 id=\"numpy\">What is Numpy?</h2>\n"
      ]
    },
    {
      "cell_type": "markdown",
      "metadata": {
        "id": "9q3I-_cIJtTK"
      },
      "source": [
        "NumPy is a Python library used for working with arrays, linear algebra, fourier transform, and matrices.A numpy array is similar to a list. NumPy stands for Numerical Python and it is an open source project.The array object in NumPy is called **ndarray**, it provides a lot of supporting functions that make working with ndarray very easy.\n",
        "\n",
        "Arrays are very frequently used in data science, where speed and resources are very important.\n",
        "\n",
        "NumPy is usually imported under the np alias.\n",
        "\n",
        "It's usually fixed in size and each element is of the same type. We can cast a list to a numpy array by first importing `numpy`:\n"
      ]
    },
    {
      "cell_type": "code",
      "execution_count": 3,
      "metadata": {
        "id": "Zo9OoOibJtTL"
      },
      "outputs": [],
      "source": [
        "# import numpy library\n",
        "\n",
        "import numpy as np "
      ]
    },
    {
      "cell_type": "markdown",
      "metadata": {
        "id": "p55dStRiJtTL"
      },
      "source": [
        "We then cast the list as follows:\n"
      ]
    },
    {
      "cell_type": "code",
      "execution_count": 4,
      "metadata": {
        "id": "hnzcwLUXJtTL",
        "outputId": "9abd1f6f-b789-42ee-9c50-a7ab2bfa39d0",
        "colab": {
          "base_uri": "https://localhost:8080/"
        }
      },
      "outputs": [
        {
          "output_type": "execute_result",
          "data": {
            "text/plain": [
              "array([0, 1, 2, 3, 4])"
            ]
          },
          "metadata": {},
          "execution_count": 4
        }
      ],
      "source": [
        "# Create a numpy array\n",
        "\n",
        "a = np.array([0, 1, 2, 3, 4])\n",
        "a"
      ]
    },
    {
      "cell_type": "markdown",
      "metadata": {
        "id": "UtMi7iZCJtTL"
      },
      "source": [
        "Each element is of the same type, in this case integers:\n"
      ]
    },
    {
      "cell_type": "markdown",
      "metadata": {
        "id": "SwwdKDTTJtTM"
      },
      "source": [
        "<img src=\"https://cf-courses-data.s3.us.cloud-object-storage.appdomain.cloud/IBMDeveloperSkillsNetwork-PY0101EN-SkillsNetwork/labs/Module%205/images/NumOneNp.png\" width=\"500\" />\n"
      ]
    },
    {
      "cell_type": "markdown",
      "metadata": {
        "id": "FRN5XhbaJtTM"
      },
      "source": [
        "As with lists, we can access each element via a square bracket:\n"
      ]
    },
    {
      "cell_type": "code",
      "execution_count": 5,
      "metadata": {
        "id": "5jOZWvDJJtTM",
        "outputId": "9d69f907-64c9-4fb4-fb74-219c41f7c606",
        "colab": {
          "base_uri": "https://localhost:8080/"
        }
      },
      "outputs": [
        {
          "output_type": "stream",
          "name": "stdout",
          "text": [
            "a[0]: 0\n",
            "a[1]: 1\n",
            "a[2]: 2\n",
            "a[3]: 3\n",
            "a[4]: 4\n"
          ]
        }
      ],
      "source": [
        "# Print each element\n",
        "\n",
        "print(\"a[0]:\", a[0])\n",
        "print(\"a[1]:\", a[1])\n",
        "print(\"a[2]:\", a[2])\n",
        "print(\"a[3]:\", a[3])\n",
        "print(\"a[4]:\", a[4])"
      ]
    },
    {
      "cell_type": "markdown",
      "metadata": {
        "id": "KUJW9PcuJtTM"
      },
      "source": [
        "### Checking NumPy Version\n",
        "\n",
        "The version string is stored under **version** attribute.\n"
      ]
    },
    {
      "cell_type": "code",
      "execution_count": 6,
      "metadata": {
        "id": "QkoevPcSJtTN",
        "outputId": "3c75773c-2076-4b48-a5ad-2fc32bc730dc",
        "colab": {
          "base_uri": "https://localhost:8080/"
        }
      },
      "outputs": [
        {
          "output_type": "stream",
          "name": "stdout",
          "text": [
            "1.21.6\n"
          ]
        }
      ],
      "source": [
        "print(np.__version__)"
      ]
    },
    {
      "cell_type": "markdown",
      "metadata": {
        "id": "4YI-rsmsJtTN"
      },
      "source": [
        "<h3 id=\"type\">Type</h3>\n"
      ]
    },
    {
      "cell_type": "markdown",
      "metadata": {
        "id": "3QK4L2X0JtTN"
      },
      "source": [
        "If we check the type of the array we get <b>numpy.ndarray</b>:\n"
      ]
    },
    {
      "cell_type": "code",
      "execution_count": 7,
      "metadata": {
        "id": "l1zqFvxkJtTN",
        "outputId": "a00caa74-f6b9-4ef7-a243-4a5d9333c41e",
        "colab": {
          "base_uri": "https://localhost:8080/"
        }
      },
      "outputs": [
        {
          "output_type": "execute_result",
          "data": {
            "text/plain": [
              "numpy.ndarray"
            ]
          },
          "metadata": {},
          "execution_count": 7
        }
      ],
      "source": [
        "# Check the type of the array\n",
        "\n",
        "type(a)"
      ]
    },
    {
      "cell_type": "markdown",
      "metadata": {
        "id": "dOA3GOdrJtTO"
      },
      "source": [
        "As numpy arrays contain data of the same type, we can use the attribute \"dtype\" to obtain the data type of the array’s elements. In this case, it's a 64-bit integer:\n"
      ]
    },
    {
      "cell_type": "code",
      "execution_count": 8,
      "metadata": {
        "id": "ahB6_Ph0JtTO",
        "outputId": "7fc1cf87-fd8b-4f2d-86cd-2e096b45809d",
        "colab": {
          "base_uri": "https://localhost:8080/"
        }
      },
      "outputs": [
        {
          "output_type": "execute_result",
          "data": {
            "text/plain": [
              "dtype('int64')"
            ]
          },
          "metadata": {},
          "execution_count": 8
        }
      ],
      "source": [
        "# Check the type of the values stored in numpy array\n",
        "\n",
        "a.dtype"
      ]
    },
    {
      "cell_type": "markdown",
      "metadata": {
        "id": "odG9uQ38JtTO"
      },
      "source": [
        "### Try it yourself\n",
        "\n",
        "Check the type of the array and Value type for the given array **c**\n"
      ]
    },
    {
      "cell_type": "code",
      "execution_count": 13,
      "metadata": {
        "id": "1y0YOhKvJtTO",
        "outputId": "b156a68c-5d25-4ab4-b7c5-20e08fc58d0d",
        "colab": {
          "base_uri": "https://localhost:8080/",
          "height": 130
        }
      },
      "outputs": [
        {
          "output_type": "error",
          "ename": "SyntaxError",
          "evalue": "ignored",
          "traceback": [
            "\u001b[0;36m  File \u001b[0;32m\"<ipython-input-13-4c309e60ee99>\"\u001b[0;36m, line \u001b[0;32m8\u001b[0m\n\u001b[0;31m    If we examine the attribute dtype we see float 64, as the elements are not integers:\u001b[0m\n\u001b[0m        ^\u001b[0m\n\u001b[0;31mSyntaxError\u001b[0m\u001b[0;31m:\u001b[0m invalid syntax\n"
          ]
        }
      ],
      "source": [
        "b = np.array([3.1, 11.02, 6.2, 213.2, 5.2])\n",
        "\n",
        "# Enter your code here\n",
        "type(b)\n",
        "\n",
        "b.dtype \n",
        "\n",
        "If we examine the attribute dtype we see float 64, as the elements are not integers:"
      ]
    },
    {
      "cell_type": "markdown",
      "metadata": {
        "id": "vS4LYF4KJtTO"
      },
      "source": [
        "<details><summary>Click here for the solution</summary>\n",
        "\n",
        "```python\n",
        "type(b)\n",
        "    \n",
        "b.dtype \n",
        "    \n",
        "If we examine the attribute dtype we see float 64, as the elements are not integers:\n",
        "```\n",
        "\n",
        "</details>\n"
      ]
    },
    {
      "cell_type": "markdown",
      "metadata": {
        "id": "IYqntsQYJtTO"
      },
      "source": [
        "<h3 id=\"val\">Assign value</h3>\n"
      ]
    },
    {
      "cell_type": "markdown",
      "metadata": {
        "id": "z2PjxXkPJtTP"
      },
      "source": [
        "We can change the value of the array. Consider the array <code>c</code>:\n"
      ]
    },
    {
      "cell_type": "code",
      "execution_count": 14,
      "metadata": {
        "id": "ODD_-7ArJtTP",
        "outputId": "ac44e17d-c9e6-4f01-a690-11f5323a8e71",
        "colab": {
          "base_uri": "https://localhost:8080/"
        }
      },
      "outputs": [
        {
          "output_type": "execute_result",
          "data": {
            "text/plain": [
              "array([20,  1,  2,  3,  4])"
            ]
          },
          "metadata": {},
          "execution_count": 14
        }
      ],
      "source": [
        "# Create numpy array\n",
        "\n",
        "c = np.array([20, 1, 2, 3, 4])\n",
        "c"
      ]
    },
    {
      "cell_type": "markdown",
      "metadata": {
        "id": "Ww1U6Zx6JtTP"
      },
      "source": [
        "We can change the first element of the array to 100 as follows:\n"
      ]
    },
    {
      "cell_type": "code",
      "execution_count": 15,
      "metadata": {
        "id": "v6fGK0HLJtTP",
        "outputId": "4294b328-8804-426f-9c67-fd88caff0cd3",
        "colab": {
          "base_uri": "https://localhost:8080/"
        }
      },
      "outputs": [
        {
          "output_type": "execute_result",
          "data": {
            "text/plain": [
              "array([100,   1,   2,   3,   4])"
            ]
          },
          "metadata": {},
          "execution_count": 15
        }
      ],
      "source": [
        "# Assign the first element to 100\n",
        "\n",
        "c[0] = 100\n",
        "c"
      ]
    },
    {
      "cell_type": "markdown",
      "metadata": {
        "id": "odvfqioGJtTP"
      },
      "source": [
        "We can change the 5th element of the array to 0 as follows:\n"
      ]
    },
    {
      "cell_type": "code",
      "execution_count": 16,
      "metadata": {
        "id": "C5iaa0wZJtTP",
        "outputId": "582d6e6e-ee1d-4b47-a142-195bfc31d5bd",
        "colab": {
          "base_uri": "https://localhost:8080/"
        }
      },
      "outputs": [
        {
          "output_type": "execute_result",
          "data": {
            "text/plain": [
              "array([100,   1,   2,   3,   0])"
            ]
          },
          "metadata": {},
          "execution_count": 16
        }
      ],
      "source": [
        "# Assign the 5th element to 0\n",
        "\n",
        "c[4] = 0\n",
        "c"
      ]
    },
    {
      "cell_type": "markdown",
      "metadata": {
        "id": "lv36WDN6JtTQ"
      },
      "source": [
        "### Try it yourself\n",
        "\n",
        "Assign the value 20 for the second element in the given array.\n"
      ]
    },
    {
      "cell_type": "code",
      "execution_count": 24,
      "metadata": {
        "id": "LDEiOPxRJtTQ",
        "outputId": "09727acd-5274-44ed-887c-57f131529487",
        "colab": {
          "base_uri": "https://localhost:8080/"
        }
      },
      "outputs": [
        {
          "output_type": "execute_result",
          "data": {
            "text/plain": [
              "array([10, 20, 30, 40, 50])"
            ]
          },
          "metadata": {},
          "execution_count": 24
        }
      ],
      "source": [
        "a = np.array([10, 2, 30, 40,50])\n",
        "\n",
        "# Enter your code here\n",
        "a[1]=20\n",
        "a"
      ]
    },
    {
      "cell_type": "markdown",
      "metadata": {
        "id": "-vIJgX89JtTQ"
      },
      "source": [
        "<details><summary>Click here for the solution</summary>\n",
        "\n",
        "```python\n",
        "a[1]=20\n",
        "a\n",
        "   \n",
        "```\n",
        "\n",
        "</details>\n"
      ]
    },
    {
      "cell_type": "markdown",
      "metadata": {
        "id": "5oEPoO8aJtTQ"
      },
      "source": [
        "<h3 id=\"slice\">Slicing</h3>\n"
      ]
    },
    {
      "cell_type": "markdown",
      "metadata": {
        "id": "NgJ6QMwrJtTR"
      },
      "source": [
        "Like lists, we can slice the numpy array. Slicing in python means taking the elements from the given index to another given index.\n",
        "\n",
        "We pass slice like this: \\[start:end].\n",
        "\n",
        "We can select the elements from 1 to 3 and assign it to a new numpy array <code>d</code> as follows:\n"
      ]
    },
    {
      "cell_type": "code",
      "execution_count": 18,
      "metadata": {
        "id": "f55vlzTQJtTR",
        "outputId": "8af03117-0028-41e2-fa37-f9cabf063d89",
        "colab": {
          "base_uri": "https://localhost:8080/"
        }
      },
      "outputs": [
        {
          "output_type": "execute_result",
          "data": {
            "text/plain": [
              "array([1, 2, 3])"
            ]
          },
          "metadata": {},
          "execution_count": 18
        }
      ],
      "source": [
        "# Slicing the numpy array\n",
        "\n",
        "d = c[1:4]\n",
        "d"
      ]
    },
    {
      "cell_type": "markdown",
      "metadata": {
        "id": "L2ZXqmchJtTR"
      },
      "source": [
        "We can assign the corresponding indexes to new values as follows:\n"
      ]
    },
    {
      "cell_type": "code",
      "execution_count": 25,
      "metadata": {
        "id": "Alb-abC7JtTR",
        "outputId": "76d64c23-dd8f-4d75-d2f4-570038ebc4ac",
        "colab": {
          "base_uri": "https://localhost:8080/"
        }
      },
      "outputs": [
        {
          "output_type": "execute_result",
          "data": {
            "text/plain": [
              "array([100,   1,   2, 300, 400])"
            ]
          },
          "metadata": {},
          "execution_count": 25
        }
      ],
      "source": [
        "# Set the fourth element and fifth element to 300 and 400\n",
        "\n",
        "c[3:5] = 300, 400\n",
        "c"
      ]
    },
    {
      "cell_type": "markdown",
      "metadata": {
        "id": "a7heBZ_pJtTR"
      },
      "source": [
        "We can also define the steps in slicing, like this: \\[start\\:end:step].\n"
      ]
    },
    {
      "cell_type": "code",
      "execution_count": 26,
      "metadata": {
        "id": "NNsNjPf6JtTR",
        "outputId": "620909ab-c569-4ca9-f7f2-107d8dd9d0f7",
        "colab": {
          "base_uri": "https://localhost:8080/"
        }
      },
      "outputs": [
        {
          "output_type": "stream",
          "name": "stdout",
          "text": [
            "[2 4]\n"
          ]
        }
      ],
      "source": [
        "arr = np.array([1, 2, 3, 4, 5, 6, 7])\n",
        "\n",
        "print(arr[1:5:2])"
      ]
    },
    {
      "cell_type": "markdown",
      "metadata": {
        "id": "-tnUgubpJtTS"
      },
      "source": [
        "If we don't pass start its considered 0\n"
      ]
    },
    {
      "cell_type": "code",
      "execution_count": 27,
      "metadata": {
        "id": "iq5GfcRzJtTS",
        "outputId": "405f5727-cd5f-4153-f0a2-4b7088118197",
        "colab": {
          "base_uri": "https://localhost:8080/"
        }
      },
      "outputs": [
        {
          "output_type": "stream",
          "name": "stdout",
          "text": [
            "[1 2 3 4]\n"
          ]
        }
      ],
      "source": [
        "print(arr[:4])"
      ]
    },
    {
      "cell_type": "markdown",
      "metadata": {
        "id": "WhTE2vG2JtTS"
      },
      "source": [
        "If we don't pass end it considers till the length of array.\n"
      ]
    },
    {
      "cell_type": "code",
      "execution_count": 28,
      "metadata": {
        "id": "8qmyQf47JtTS",
        "outputId": "4c5df683-2aaa-453c-8fb4-0ddba69bedee",
        "colab": {
          "base_uri": "https://localhost:8080/"
        }
      },
      "outputs": [
        {
          "output_type": "stream",
          "name": "stdout",
          "text": [
            "[5 6 7]\n"
          ]
        }
      ],
      "source": [
        "print(arr[4:])"
      ]
    },
    {
      "cell_type": "markdown",
      "metadata": {
        "id": "neeNrs0eJtTS"
      },
      "source": [
        "If we don't pass step its considered 1\n"
      ]
    },
    {
      "cell_type": "code",
      "execution_count": 29,
      "metadata": {
        "id": "vpSl3kv8JtTS",
        "outputId": "aaa7097b-f21b-46c2-d195-050f93254ce6",
        "colab": {
          "base_uri": "https://localhost:8080/"
        }
      },
      "outputs": [
        {
          "output_type": "stream",
          "name": "stdout",
          "text": [
            "[2 3 4 5]\n"
          ]
        }
      ],
      "source": [
        "print(arr[1:5:])"
      ]
    },
    {
      "cell_type": "markdown",
      "metadata": {
        "id": "mXKmQ_2cJtTS"
      },
      "source": [
        "### Try it yourself\n",
        "\n",
        "Print the even elements in the given array.\n"
      ]
    },
    {
      "cell_type": "code",
      "execution_count": 31,
      "metadata": {
        "id": "SZLNyUYEJtTT"
      },
      "outputs": [],
      "source": [
        "arr = np.array([1, 2, 3, 4, 5, 6, 7, 8])\n",
        "\n",
        "# Enter your code here"
      ]
    },
    {
      "cell_type": "markdown",
      "metadata": {
        "id": "fH4yzbQ0JtTT"
      },
      "source": [
        "<details><summary>Click here for the solution</summary>\n",
        "\n",
        "```python\n",
        "print(arr[1:8:2])\n",
        "\n",
        "    \n",
        "```\n",
        "\n",
        "</details>\n"
      ]
    },
    {
      "cell_type": "markdown",
      "metadata": {
        "id": "7tNHC5dzJtTT"
      },
      "source": [
        "<h3 id=\"list\">Assign Value with List</h3>\n"
      ]
    },
    {
      "cell_type": "markdown",
      "metadata": {
        "id": "faZVHw1JJtTT"
      },
      "source": [
        "Similarly, we can use a list to select more than one specific index.\n",
        "The list `select` contains several values:\n"
      ]
    },
    {
      "cell_type": "code",
      "execution_count": 32,
      "metadata": {
        "id": "tiMRcnRSJtTT",
        "outputId": "65f555a5-12d2-4115-9ff3-f77d2b30eecd",
        "colab": {
          "base_uri": "https://localhost:8080/"
        }
      },
      "outputs": [
        {
          "output_type": "execute_result",
          "data": {
            "text/plain": [
              "[0, 2, 3, 4]"
            ]
          },
          "metadata": {},
          "execution_count": 32
        }
      ],
      "source": [
        "# Create the index list\n",
        "\n",
        "select = [0, 2, 3, 4]\n",
        "select"
      ]
    },
    {
      "cell_type": "markdown",
      "metadata": {
        "id": "I-aDYl8zJtTT"
      },
      "source": [
        "We can use the list as an argument in the brackets. The output is the elements corresponding to the particular indexes:\n"
      ]
    },
    {
      "cell_type": "code",
      "execution_count": 33,
      "metadata": {
        "id": "VcWxbnaLJtTT",
        "outputId": "84eced03-5641-448d-cffa-ed30c5e11f93",
        "colab": {
          "base_uri": "https://localhost:8080/"
        }
      },
      "outputs": [
        {
          "output_type": "execute_result",
          "data": {
            "text/plain": [
              "array([100,   2, 300, 400])"
            ]
          },
          "metadata": {},
          "execution_count": 33
        }
      ],
      "source": [
        "# Use List to select elements\n",
        "\n",
        "d = c[select]\n",
        "d"
      ]
    },
    {
      "cell_type": "markdown",
      "metadata": {
        "id": "xW6B3NVsJtTU"
      },
      "source": [
        "We can assign the specified elements to a new value. For example, we can assign the values to 100 000 as follows:\n"
      ]
    },
    {
      "cell_type": "code",
      "execution_count": 34,
      "metadata": {
        "id": "rFoD-4udJtTU",
        "outputId": "c3ef4173-d12a-4568-c4ec-7f03e601aed4",
        "colab": {
          "base_uri": "https://localhost:8080/"
        }
      },
      "outputs": [
        {
          "output_type": "execute_result",
          "data": {
            "text/plain": [
              "array([100000,      1, 100000, 100000, 100000])"
            ]
          },
          "metadata": {},
          "execution_count": 34
        }
      ],
      "source": [
        "# Assign the specified elements to new value\n",
        "\n",
        "c[select] = 100000\n",
        "c"
      ]
    },
    {
      "cell_type": "markdown",
      "metadata": {
        "id": "bFNj99NlJtTU"
      },
      "source": [
        "<h3 id=\"other\">Other Attributes</h3>\n"
      ]
    },
    {
      "cell_type": "markdown",
      "metadata": {
        "id": "EjhXPx-UJtTU"
      },
      "source": [
        "Let's review some basic array attributes using the array <code>a</code>:\n"
      ]
    },
    {
      "cell_type": "code",
      "execution_count": 35,
      "metadata": {
        "id": "uU4DMV9oJtTU",
        "outputId": "7f4eca82-c01f-47ee-e453-2f6388612c2a",
        "colab": {
          "base_uri": "https://localhost:8080/"
        }
      },
      "outputs": [
        {
          "output_type": "execute_result",
          "data": {
            "text/plain": [
              "array([0, 1, 2, 3, 4])"
            ]
          },
          "metadata": {},
          "execution_count": 35
        }
      ],
      "source": [
        "# Create a numpy array\n",
        "\n",
        "a = np.array([0, 1, 2, 3, 4])\n",
        "a"
      ]
    },
    {
      "cell_type": "markdown",
      "metadata": {
        "id": "ril4G5lRJtTU"
      },
      "source": [
        "The attribute <code>size</code> is the number of elements in the array:\n"
      ]
    },
    {
      "cell_type": "code",
      "execution_count": 36,
      "metadata": {
        "id": "AqbQAKEAJtTU",
        "outputId": "e5700c30-8a1e-43fa-a6ec-6bb1144f00cb",
        "colab": {
          "base_uri": "https://localhost:8080/"
        }
      },
      "outputs": [
        {
          "output_type": "execute_result",
          "data": {
            "text/plain": [
              "5"
            ]
          },
          "metadata": {},
          "execution_count": 36
        }
      ],
      "source": [
        "# Get the size of numpy array\n",
        "\n",
        "a.size"
      ]
    },
    {
      "cell_type": "markdown",
      "metadata": {
        "id": "N0eME4MvJtTV"
      },
      "source": [
        "The next two attributes will make more sense when we get to higher dimensions but let's review them. The attribute <code>ndim</code> represents the number of array dimensions, or the rank of the array. In this case, one:\n"
      ]
    },
    {
      "cell_type": "code",
      "execution_count": 37,
      "metadata": {
        "id": "S-PmyvbOJtTV",
        "outputId": "f9aa2138-a04a-474d-ae92-d1bea95100bd",
        "colab": {
          "base_uri": "https://localhost:8080/"
        }
      },
      "outputs": [
        {
          "output_type": "execute_result",
          "data": {
            "text/plain": [
              "1"
            ]
          },
          "metadata": {},
          "execution_count": 37
        }
      ],
      "source": [
        "# Get the number of dimensions of numpy array\n",
        "\n",
        "a.ndim"
      ]
    },
    {
      "cell_type": "markdown",
      "metadata": {
        "id": "Z5Nxyxg5JtTV"
      },
      "source": [
        "The attribute <code>shape</code> is a tuple of integers indicating the size of the array in each dimension:\n"
      ]
    },
    {
      "cell_type": "code",
      "execution_count": 38,
      "metadata": {
        "id": "BNMJ_aZoJtTV",
        "outputId": "25f132c3-7788-4edf-bcd5-2c6c5c407a9a",
        "colab": {
          "base_uri": "https://localhost:8080/"
        }
      },
      "outputs": [
        {
          "output_type": "execute_result",
          "data": {
            "text/plain": [
              "(5,)"
            ]
          },
          "metadata": {},
          "execution_count": 38
        }
      ],
      "source": [
        "# Get the shape/size of numpy array\n",
        "\n",
        "a.shape"
      ]
    },
    {
      "cell_type": "markdown",
      "metadata": {
        "id": "3rvcyooVJtTV"
      },
      "source": [
        "### Try it yourself\n",
        "\n",
        "Find the size ,dimension and shape for the given array **b**\n"
      ]
    },
    {
      "cell_type": "code",
      "execution_count": 30,
      "metadata": {
        "id": "A0f1KyvlJtTV"
      },
      "outputs": [],
      "source": [
        "b = np.array([10, 20, 30, 40, 50, 60, 70])\n",
        "\n",
        "# Enter your code here"
      ]
    },
    {
      "cell_type": "markdown",
      "metadata": {
        "id": "vYEyycVWJtTV"
      },
      "source": [
        "<details><summary>Click here for the solution</summary>\n",
        "\n",
        "```python\n",
        "b.size\n",
        "\n",
        "b.ndim\n",
        "\n",
        "b.shape\n",
        "\n",
        "    \n",
        "```\n",
        "\n",
        "</details>\n"
      ]
    },
    {
      "cell_type": "markdown",
      "metadata": {
        "id": "-Z2brD5AJtTV"
      },
      "source": [
        "### Numpy Statistical Functions\n"
      ]
    },
    {
      "cell_type": "code",
      "execution_count": 39,
      "metadata": {
        "id": "E7WMMPIUJtTW"
      },
      "outputs": [],
      "source": [
        "# Create a numpy array\n",
        "\n",
        "a = np.array([1, -1, 1, -1])"
      ]
    },
    {
      "cell_type": "code",
      "execution_count": 40,
      "metadata": {
        "id": "1LmvioGLJtTW",
        "outputId": "46b4a2f4-ac5c-4835-e8cd-d0221d70975f",
        "colab": {
          "base_uri": "https://localhost:8080/"
        }
      },
      "outputs": [
        {
          "output_type": "execute_result",
          "data": {
            "text/plain": [
              "0.0"
            ]
          },
          "metadata": {},
          "execution_count": 40
        }
      ],
      "source": [
        "# Get the mean of numpy array\n",
        "\n",
        "mean = a.mean()\n",
        "mean"
      ]
    },
    {
      "cell_type": "code",
      "execution_count": 41,
      "metadata": {
        "id": "mTuTOgzEJtTW",
        "outputId": "e53b5c65-d3b5-4eba-f16e-cefb28d06e06",
        "colab": {
          "base_uri": "https://localhost:8080/"
        }
      },
      "outputs": [
        {
          "output_type": "execute_result",
          "data": {
            "text/plain": [
              "1.0"
            ]
          },
          "metadata": {},
          "execution_count": 41
        }
      ],
      "source": [
        "# Get the standard deviation of numpy array\n",
        "\n",
        "standard_deviation=a.std()\n",
        "standard_deviation"
      ]
    },
    {
      "cell_type": "code",
      "execution_count": 42,
      "metadata": {
        "id": "veAJMqsjJtTW",
        "outputId": "410aee05-7f91-4933-fbc8-113d90272824",
        "colab": {
          "base_uri": "https://localhost:8080/"
        }
      },
      "outputs": [
        {
          "output_type": "execute_result",
          "data": {
            "text/plain": [
              "array([-1,  2,  3,  4,  5])"
            ]
          },
          "metadata": {},
          "execution_count": 42
        }
      ],
      "source": [
        "# Create a numpy array\n",
        "\n",
        "b = np.array([-1, 2, 3, 4, 5])\n",
        "b"
      ]
    },
    {
      "cell_type": "code",
      "execution_count": 43,
      "metadata": {
        "id": "7LdtMCHvJtTW",
        "outputId": "d3fa54e5-44dc-49e8-8416-63fb18abbfa6",
        "colab": {
          "base_uri": "https://localhost:8080/"
        }
      },
      "outputs": [
        {
          "output_type": "execute_result",
          "data": {
            "text/plain": [
              "5"
            ]
          },
          "metadata": {},
          "execution_count": 43
        }
      ],
      "source": [
        "# Get the biggest value in the numpy array\n",
        "\n",
        "max_b = b.max()\n",
        "max_b"
      ]
    },
    {
      "cell_type": "code",
      "execution_count": 44,
      "metadata": {
        "id": "PyoV3tHJJtTW",
        "outputId": "50084b25-3d5a-490a-eba3-cfeaa7c423e8",
        "colab": {
          "base_uri": "https://localhost:8080/"
        }
      },
      "outputs": [
        {
          "output_type": "execute_result",
          "data": {
            "text/plain": [
              "-1"
            ]
          },
          "metadata": {},
          "execution_count": 44
        }
      ],
      "source": [
        "# Get the smallest value in the numpy array\n",
        "\n",
        "min_b = b.min()\n",
        "min_b"
      ]
    },
    {
      "cell_type": "markdown",
      "metadata": {
        "id": "izZWNSIXJtTW"
      },
      "source": [
        "### Try it yourself\n",
        "\n",
        "Find the sum of maximum and minimum value in the given numpy array\n"
      ]
    },
    {
      "cell_type": "markdown",
      "metadata": {
        "id": "d6bYwfo_JtTW"
      },
      "source": [
        "<hr>\n"
      ]
    },
    {
      "cell_type": "code",
      "execution_count": 45,
      "metadata": {
        "id": "_zdlwoqZJtTX"
      },
      "outputs": [],
      "source": [
        "c = np.array([-10, 201, 43, 94, 502])\n",
        "\n",
        "# Enter your code here\n"
      ]
    },
    {
      "cell_type": "markdown",
      "metadata": {
        "id": "Bsjw4eUeJtTX"
      },
      "source": [
        "<details><summary>Click here for the solution</summary>\n",
        "\n",
        "```python\n",
        "max_c = c.max()\n",
        "max_c\n",
        "    \n",
        "min_c = c.min()\n",
        "min_c\n",
        "    \n",
        "    \n",
        "Sum = (max_c +min_c)\n",
        "Sum\n",
        "\n",
        "    \n",
        "```\n",
        "\n",
        "</details>\n"
      ]
    },
    {
      "cell_type": "markdown",
      "metadata": {
        "id": "WMx5e-HoJtTX"
      },
      "source": [
        "<h2 id=\"op\">Numpy Array Operations</h2>\n",
        "\n",
        "You could use arithmetic operators directly between NumPy arrays\n"
      ]
    },
    {
      "cell_type": "markdown",
      "metadata": {
        "id": "06gy3gZuJtTX"
      },
      "source": [
        "<h3 id=\"add\">Array Addition</h3>\n"
      ]
    },
    {
      "cell_type": "markdown",
      "metadata": {
        "id": "N0EXWGNnJtTX"
      },
      "source": [
        "Consider the numpy array <code>u</code>:\n"
      ]
    },
    {
      "cell_type": "code",
      "execution_count": 46,
      "metadata": {
        "id": "0mdomjRIJtTX",
        "outputId": "9a67dd9b-6f77-47e2-b455-fb040dcbae01",
        "colab": {
          "base_uri": "https://localhost:8080/"
        }
      },
      "outputs": [
        {
          "output_type": "execute_result",
          "data": {
            "text/plain": [
              "array([1, 0])"
            ]
          },
          "metadata": {},
          "execution_count": 46
        }
      ],
      "source": [
        "u = np.array([1, 0])\n",
        "u"
      ]
    },
    {
      "cell_type": "markdown",
      "metadata": {
        "id": "5hhGI0LVJtTX"
      },
      "source": [
        "Consider the numpy array <code>v</code>:\n"
      ]
    },
    {
      "cell_type": "code",
      "execution_count": 47,
      "metadata": {
        "id": "A5-Hc9HtJtTX",
        "outputId": "d3829497-a8e4-478a-a45e-e78eb3a642ce",
        "colab": {
          "base_uri": "https://localhost:8080/"
        }
      },
      "outputs": [
        {
          "output_type": "execute_result",
          "data": {
            "text/plain": [
              "array([0, 1])"
            ]
          },
          "metadata": {},
          "execution_count": 47
        }
      ],
      "source": [
        "v = np.array([0, 1])\n",
        "v"
      ]
    },
    {
      "cell_type": "markdown",
      "metadata": {
        "id": "r9CfuIfxJtTX"
      },
      "source": [
        "We can add the two arrays and assign it to z:\n"
      ]
    },
    {
      "cell_type": "code",
      "execution_count": 48,
      "metadata": {
        "id": "myxDB6FiJtTY",
        "outputId": "d0a88b6b-dd03-4566-a916-3f88da477fc9",
        "colab": {
          "base_uri": "https://localhost:8080/"
        }
      },
      "outputs": [
        {
          "output_type": "execute_result",
          "data": {
            "text/plain": [
              "array([1, 1])"
            ]
          },
          "metadata": {},
          "execution_count": 48
        }
      ],
      "source": [
        "# Numpy Array Addition\n",
        "\n",
        "z = np.add(u, v)\n",
        "z"
      ]
    },
    {
      "cell_type": "markdown",
      "metadata": {
        "id": "aMr37yW6JtTY"
      },
      "source": [
        "The operation is equivalent to vector addition:\n"
      ]
    },
    {
      "cell_type": "code",
      "execution_count": 49,
      "metadata": {
        "id": "qp-Pj0-PJtTY"
      },
      "outputs": [],
      "source": [
        "# Plotting functions\n",
        "\n",
        "\n",
        "import time \n",
        "import sys\n",
        "import numpy as np \n",
        "\n",
        "import matplotlib.pyplot as plt\n",
        "%matplotlib inline  \n",
        "\n",
        "def Plotvec1(u, z, v):\n",
        "    \n",
        "    ax = plt.axes() # to generate the full window axes\n",
        "    ax.arrow(0, 0, *u, head_width=0.05, color='r', head_length=0.1)# Add an arrow to the  U Axes with arrow head width 0.05, color red and arrow head length 0.1\n",
        "    plt.text(*(u + 0.1), 'u')#Adds the text u to the Axes \n",
        "    \n",
        "    ax.arrow(0, 0, *v, head_width=0.05, color='b', head_length=0.1)# Add an arrow to the  v Axes with arrow head width 0.05, color red and arrow head length 0.1\n",
        "    plt.text(*(v + 0.1), 'v')#Adds the text v to the Axes \n",
        "    \n",
        "    ax.arrow(0, 0, *z, head_width=0.05, head_length=0.1)\n",
        "    plt.text(*(z + 0.1), 'z')#Adds the text z to the Axes \n",
        "    plt.ylim(-2, 2)#set the ylim to bottom(-2), top(2)\n",
        "    plt.xlim(-2, 2)#set the xlim to left(-2), right(2)\n",
        "\n",
        "  \n"
      ]
    },
    {
      "cell_type": "code",
      "execution_count": 50,
      "metadata": {
        "id": "A_jTvvE2JtTY",
        "outputId": "d4a5430c-9aad-44dd-c168-9b1dba8f9a5d",
        "colab": {
          "base_uri": "https://localhost:8080/",
          "height": 0
        }
      },
      "outputs": [
        {
          "output_type": "display_data",
          "data": {
            "text/plain": [
              "<Figure size 432x288 with 1 Axes>"
            ],
            "image/png": "[encoded data removed]"
          },
          "metadata": {
            "needs_background": "light"
          }
        }
      ],
      "source": [
        "# Plot numpy arrays\n",
        "\n",
        "Plotvec1(u, z, v)"
      ]
    },
    {
      "cell_type": "markdown",
      "metadata": {
        "id": "MjLHL9tpJtTY"
      },
      "source": [
        "### Try it yourself\n",
        "\n",
        "Perform addition operation on the given numpy array arr1 and arr2:\n"
      ]
    },
    {
      "cell_type": "code",
      "execution_count": null,
      "metadata": {
        "id": "Jdj8lzAYJtTY"
      },
      "outputs": [],
      "source": [
        "arr1 = np.array([10, 11, 12, 13, 14, 15])\n",
        "arr2 = np.array([20, 21, 22, 23, 24, 25])\n",
        "\n",
        "# Enter your code here"
      ]
    },
    {
      "cell_type": "markdown",
      "metadata": {
        "id": "iIm2c70HJtTY"
      },
      "source": [
        "<details><summary>Click here for the solution</summary>\n",
        "\n",
        "```python\n",
        "arr3 = np.add(arr1, arr2)\n",
        "arr3\n",
        "\n",
        "    \n",
        "```\n",
        "\n",
        "</details>\n"
      ]
    },
    {
      "cell_type": "markdown",
      "metadata": {
        "id": "-hu5UsBgJtTZ"
      },
      "source": [
        "### Array Subtraction\n"
      ]
    },
    {
      "cell_type": "markdown",
      "metadata": {
        "id": "JNXiCy1CJtTZ"
      },
      "source": [
        "Consider the numpy array a:\n"
      ]
    },
    {
      "cell_type": "code",
      "execution_count": 51,
      "metadata": {
        "id": "dlj1L3dNJtTZ",
        "outputId": "d4cf98d6-3efc-4c53-baa3-5675a23989d0",
        "colab": {
          "base_uri": "https://localhost:8080/"
        }
      },
      "outputs": [
        {
          "output_type": "execute_result",
          "data": {
            "text/plain": [
              "array([10, 20, 30])"
            ]
          },
          "metadata": {},
          "execution_count": 51
        }
      ],
      "source": [
        "a = np.array([10, 20, 30])\n",
        "a"
      ]
    },
    {
      "cell_type": "markdown",
      "metadata": {
        "id": "qGYqwuznJtTZ"
      },
      "source": [
        "Consider the numpy array b:\n"
      ]
    },
    {
      "cell_type": "code",
      "execution_count": 52,
      "metadata": {
        "id": "5Mc40P3YJtTZ",
        "outputId": "b97675e8-f4e3-4c05-b5e7-e90df08fe523",
        "colab": {
          "base_uri": "https://localhost:8080/"
        }
      },
      "outputs": [
        {
          "output_type": "execute_result",
          "data": {
            "text/plain": [
              "array([ 5, 10, 15])"
            ]
          },
          "metadata": {},
          "execution_count": 52
        }
      ],
      "source": [
        "b = np.array([5, 10, 15])\n",
        "b"
      ]
    },
    {
      "cell_type": "markdown",
      "metadata": {
        "id": "1FvNOTuQJtTZ"
      },
      "source": [
        "We can subtract the two arrays and assign it to c:\n"
      ]
    },
    {
      "cell_type": "code",
      "execution_count": 53,
      "metadata": {
        "id": "SZZc_nAZJtTZ",
        "outputId": "d58b214c-0718-4724-f18c-7f45b8e1af55",
        "colab": {
          "base_uri": "https://localhost:8080/"
        }
      },
      "outputs": [
        {
          "output_type": "stream",
          "name": "stdout",
          "text": [
            "[ 5 10 15]\n"
          ]
        }
      ],
      "source": [
        "c = np.subtract(a, b)\n",
        "\n",
        "print(c)"
      ]
    },
    {
      "cell_type": "markdown",
      "metadata": {
        "id": "IVVEh3lFJtTa"
      },
      "source": [
        "### Try it yourself\n",
        "\n",
        "Perform subtraction operation on the given numpy array arr1 and arr2:\n"
      ]
    },
    {
      "cell_type": "code",
      "execution_count": null,
      "metadata": {
        "id": "3lCtOj6QJtTa"
      },
      "outputs": [],
      "source": [
        "arr1 = np.array([10, 20, 30, 40, 50, 60])\n",
        "arr2 = np.array([20, 21, 22, 23, 24, 25])\n",
        "\n",
        "# Enter your code here\n"
      ]
    },
    {
      "cell_type": "markdown",
      "metadata": {
        "id": "iQKVx_I3JtTa"
      },
      "source": [
        "<details><summary>Click here for the solution</summary>\n",
        "\n",
        "```python\n",
        "arr3 = np.subtract(arr1, arr2)\n",
        "arr3\n",
        "\n",
        "    \n",
        "```\n",
        "\n",
        "</details>\n"
      ]
    },
    {
      "cell_type": "markdown",
      "metadata": {
        "id": "ppfT5cr5JtTa"
      },
      "source": [
        "<h3 id=\"multi\">Array Multiplication</h3>\n"
      ]
    },
    {
      "cell_type": "markdown",
      "metadata": {
        "id": "2Enr4j6wJtTa"
      },
      "source": [
        "Consider the vector numpy array <code>y</code>:\n"
      ]
    },
    {
      "cell_type": "code",
      "execution_count": null,
      "metadata": {
        "id": "8plFKCgSJtTa"
      },
      "outputs": [],
      "source": [
        "# Create a numpy array\n",
        "\n",
        "x = np.array([1, 2])\n",
        "x"
      ]
    },
    {
      "cell_type": "code",
      "execution_count": null,
      "metadata": {
        "id": "iLs9T_GaJtTa"
      },
      "outputs": [],
      "source": [
        "# Create a numpy array\n",
        "\n",
        "y = np.array([2, 1])\n",
        "y"
      ]
    },
    {
      "cell_type": "markdown",
      "metadata": {
        "id": "188pCxN0JtTa"
      },
      "source": [
        "We can multiply every element in the array by 2:\n"
      ]
    },
    {
      "cell_type": "code",
      "execution_count": null,
      "metadata": {
        "id": "BFG5ldEzJtTb"
      },
      "outputs": [],
      "source": [
        "# Numpy Array Multiplication\n",
        "\n",
        "z = np.multiply(x, y)\n",
        "z"
      ]
    },
    {
      "cell_type": "markdown",
      "metadata": {
        "id": "x2ZTXinHJtTb"
      },
      "source": [
        "This is equivalent to multiplying a vector by a scaler:\n"
      ]
    },
    {
      "cell_type": "markdown",
      "metadata": {
        "id": "QgvIb_ZeJtTb"
      },
      "source": [
        "### Try it yourself\n",
        "\n",
        "Perform multiply operation on the given numpy array arr1 and arr2:\n"
      ]
    },
    {
      "cell_type": "code",
      "execution_count": null,
      "metadata": {
        "id": "ADieVFZzJtTb"
      },
      "outputs": [],
      "source": [
        "arr1 = np.array([10, 20, 30, 40, 50, 60])\n",
        "arr2 = np.array([2, 1, 2, 3, 4, 5])\n",
        "\n",
        "# Enter your code here\n"
      ]
    },
    {
      "cell_type": "markdown",
      "metadata": {
        "id": "N2L5VnUMJtTb"
      },
      "source": [
        "<details><summary>Click here for the solution</summary>\n",
        "\n",
        "```python\n",
        "arr3 = np.multiply(arr1, arr2)\n",
        "arr3\n",
        "\n",
        "    \n",
        "```\n",
        "\n",
        "</details>\n"
      ]
    },
    {
      "cell_type": "markdown",
      "metadata": {
        "id": "iv6LfcDWJtTb"
      },
      "source": [
        "### Array Division\n"
      ]
    },
    {
      "cell_type": "markdown",
      "metadata": {
        "id": "mYb7ZgJ_JtTb"
      },
      "source": [
        "Consider the vector numpy array a:\n"
      ]
    },
    {
      "cell_type": "code",
      "execution_count": 54,
      "metadata": {
        "id": "CP5B3u22JtTb",
        "outputId": "1660a9f3-95f3-4a8b-c505-9d2c464db08a",
        "colab": {
          "base_uri": "https://localhost:8080/"
        }
      },
      "outputs": [
        {
          "output_type": "execute_result",
          "data": {
            "text/plain": [
              "array([10, 20, 30])"
            ]
          },
          "metadata": {},
          "execution_count": 54
        }
      ],
      "source": [
        "a = np.array([10, 20, 30])\n",
        "a"
      ]
    },
    {
      "cell_type": "markdown",
      "metadata": {
        "id": "mUxLm7IKJtTc"
      },
      "source": [
        "Consider the vector numpy array b:\n"
      ]
    },
    {
      "cell_type": "code",
      "execution_count": 57,
      "metadata": {
        "id": "8_O4RMQaJtTc",
        "outputId": "47b6b5b1-91a4-4a56-ea2e-b83390f4b89c",
        "colab": {
          "base_uri": "https://localhost:8080/"
        }
      },
      "outputs": [
        {
          "output_type": "execute_result",
          "data": {
            "text/plain": [
              "array([ 2, 10,  5])"
            ]
          },
          "metadata": {},
          "execution_count": 57
        }
      ],
      "source": [
        "b = np.array([2, 10, 5])\n",
        "b"
      ]
    },
    {
      "cell_type": "markdown",
      "metadata": {
        "id": "dMlAotofJtTc"
      },
      "source": [
        "We can divide the two arrays and assign it to c:\n"
      ]
    },
    {
      "cell_type": "code",
      "execution_count": 58,
      "metadata": {
        "id": "RMmWP6-_JtTc",
        "outputId": "83489cca-e763-4691-80b9-bfb2219aaecb",
        "colab": {
          "base_uri": "https://localhost:8080/"
        }
      },
      "outputs": [
        {
          "output_type": "execute_result",
          "data": {
            "text/plain": [
              "array([5., 2., 6.])"
            ]
          },
          "metadata": {},
          "execution_count": 58
        }
      ],
      "source": [
        "c = np.divide(a, b)\n",
        "c"
      ]
    },
    {
      "cell_type": "markdown",
      "metadata": {
        "id": "YJfpiVb4JtTc"
      },
      "source": [
        "### Try it yourself\n",
        "\n",
        "Perform division operation on the given numpy array arr1 and arr2:\n"
      ]
    },
    {
      "cell_type": "code",
      "execution_count": 59,
      "metadata": {
        "id": "sIpoDSVjJtTc"
      },
      "outputs": [],
      "source": [
        "arr1 = np.array([10, 20, 30, 40, 50, 60])\n",
        "arr2 = np.array([3, 5, 10, 8, 2, 33])\n",
        "\n",
        "# Enter your code here"
      ]
    },
    {
      "cell_type": "markdown",
      "metadata": {
        "id": "kHOaqStuJtTc"
      },
      "source": [
        "<details><summary>Click here for the solution</summary>\n",
        "\n",
        "```python\n",
        "arr3 = np.divide(arr1, arr2)\n",
        "arr3\n",
        "\n",
        "    \n",
        "```\n",
        "\n",
        "</details>\n"
      ]
    },
    {
      "cell_type": "markdown",
      "metadata": {
        "id": "inSeyGk_JtTd"
      },
      "source": [
        "<h3 id=\"dot\">Dot Product</h3>\n"
      ]
    },
    {
      "cell_type": "markdown",
      "metadata": {
        "id": "fOdpoxXGJtTd"
      },
      "source": [
        "The dot product of the two numpy arrays <code>u</code> and <code>v</code> is given by:\n"
      ]
    },
    {
      "cell_type": "code",
      "execution_count": 60,
      "metadata": {
        "id": "1OKwD-6mJtTd"
      },
      "outputs": [],
      "source": [
        "X = np.array([1, 2])\n",
        "Y = np.array([3, 2])"
      ]
    },
    {
      "cell_type": "code",
      "execution_count": 61,
      "metadata": {
        "id": "NyMzLRvOJtTd",
        "outputId": "8382b545-3bd2-438a-d93a-8edcda15d919",
        "colab": {
          "base_uri": "https://localhost:8080/"
        }
      },
      "outputs": [
        {
          "output_type": "execute_result",
          "data": {
            "text/plain": [
              "7"
            ]
          },
          "metadata": {},
          "execution_count": 61
        }
      ],
      "source": [
        "# Calculate the dot product\n",
        "\n",
        "np.dot(X, Y)"
      ]
    },
    {
      "cell_type": "code",
      "execution_count": 62,
      "metadata": {
        "id": "r9eOAqr6JtTd",
        "outputId": "148d2a3d-1137-448e-c3f8-fad2d7aec40c",
        "colab": {
          "base_uri": "https://localhost:8080/"
        }
      },
      "outputs": [
        {
          "output_type": "stream",
          "name": "stdout",
          "text": [
            "1\n",
            "2\n"
          ]
        }
      ],
      "source": [
        "#Elements of X\n",
        "print(X[0])\n",
        "print(X[1])"
      ]
    },
    {
      "cell_type": "code",
      "execution_count": 63,
      "metadata": {
        "id": "cu7xllu3JtTd",
        "outputId": "f2ed40e4-a818-4fb4-aad7-b24ef914761c",
        "colab": {
          "base_uri": "https://localhost:8080/"
        }
      },
      "outputs": [
        {
          "output_type": "stream",
          "name": "stdout",
          "text": [
            "3\n",
            "2\n"
          ]
        }
      ],
      "source": [
        "#Elements of Y\n",
        "print(Y[0])\n",
        "print(Y[1])"
      ]
    },
    {
      "cell_type": "markdown",
      "metadata": {
        "id": "WFV1TNuYJtTe"
      },
      "source": [
        "We are performing the dot product which is shown as below\n"
      ]
    },
    {
      "cell_type": "markdown",
      "metadata": {
        "id": "FioU_4joJtTe"
      },
      "source": [
        "<img src =\"https://cf-courses-data.s3.us.cloud-object-storage.appdomain.cloud/IBMDeveloperSkillsNetwork-PY0101EN-SkillsNetwork/labs/Module%205/images/dot1.png\"/>\n"
      ]
    },
    {
      "cell_type": "markdown",
      "metadata": {
        "id": "sC3kGq4cJtTe"
      },
      "source": [
        "### Try it yourself\n",
        "\n",
        "Perform dot operation on the given numpy array ar1 and ar2:\n"
      ]
    },
    {
      "cell_type": "code",
      "execution_count": null,
      "metadata": {
        "id": "NRWbk5nvJtTe"
      },
      "outputs": [],
      "source": [
        "arr1 = np.array([3, 5])\n",
        "arr2 = np.array([2, 4])\n",
        "\n",
        "# Enter your code here\n"
      ]
    },
    {
      "cell_type": "markdown",
      "metadata": {
        "id": "xkG3ZBSrJtTe"
      },
      "source": [
        "<details><summary>Click here for the solution</summary>\n",
        "\n",
        "```python\n",
        "arr3 = np.dot(arr1, arr2)\n",
        "arr3\n",
        "\n",
        "    \n",
        "```\n",
        "\n",
        "</details>\n"
      ]
    },
    {
      "cell_type": "markdown",
      "metadata": {
        "id": "CwLNcO_HJtTe"
      },
      "source": [
        "<h3 id=\"cons\">Adding Constant to a Numpy Array</h3>\n"
      ]
    },
    {
      "cell_type": "markdown",
      "metadata": {
        "id": "VKXpUtHSJtTe"
      },
      "source": [
        "Consider the following array:\n"
      ]
    },
    {
      "cell_type": "code",
      "execution_count": null,
      "metadata": {
        "id": "FQkLX-rdJtTe"
      },
      "outputs": [],
      "source": [
        "# Create a constant to numpy array\n",
        "\n",
        "u = np.array([1, 2, 3, -1]) \n",
        "u"
      ]
    },
    {
      "cell_type": "markdown",
      "metadata": {
        "id": "pQRYipJ3JtTe"
      },
      "source": [
        "Adding the constant 1 to each element in the array:\n"
      ]
    },
    {
      "cell_type": "code",
      "execution_count": null,
      "metadata": {
        "id": "T3czBkNsJtTf"
      },
      "outputs": [],
      "source": [
        "# Add the constant to array\n",
        "\n",
        "u + 1"
      ]
    },
    {
      "cell_type": "markdown",
      "metadata": {
        "id": "ZxzBPbDlJtTf"
      },
      "source": [
        "The process is summarised in the following animation:\n"
      ]
    },
    {
      "cell_type": "markdown",
      "metadata": {
        "id": "EFmvp00rJtTf"
      },
      "source": [
        "<img src=\"https://cf-courses-data.s3.us.cloud-object-storage.appdomain.cloud/IBMDeveloperSkillsNetwork-PY0101EN-SkillsNetwork/labs/Module%205/images/NumOneAdd.gif\" width=\"500\" />\n"
      ]
    },
    {
      "cell_type": "markdown",
      "metadata": {
        "id": "elucwANvJtTf"
      },
      "source": [
        "### Try it yourself\n",
        "\n",
        "Add Constant 5 to the given numpy array ar:\n"
      ]
    },
    {
      "cell_type": "code",
      "execution_count": null,
      "metadata": {
        "id": "9UQ_N_b2JtTf"
      },
      "outputs": [],
      "source": [
        "arr = np.array([1, 2, 3, -1]) \n",
        "\n",
        "# Enter your code here\n"
      ]
    },
    {
      "cell_type": "markdown",
      "metadata": {
        "id": "LS338vCVJtTf"
      },
      "source": [
        "<details><summary>Click here for the solution</summary>\n",
        "\n",
        "```python\n",
        "arr + 5\n",
        "\n",
        "    \n",
        "```\n",
        "\n",
        "</details>\n"
      ]
    },
    {
      "cell_type": "markdown",
      "metadata": {
        "id": "562G4z23JtTf"
      },
      "source": [
        "<hr>\n"
      ]
    },
    {
      "cell_type": "markdown",
      "metadata": {
        "id": "AvU0TswIJtTf"
      },
      "source": [
        "<h2 id=\"math\">Mathematical Functions</h2>\n"
      ]
    },
    {
      "cell_type": "markdown",
      "metadata": {
        "id": "6N2AI1FgJtTg"
      },
      "source": [
        "We can access the value of <code>pi</code> in numpy as follows :\n"
      ]
    },
    {
      "cell_type": "code",
      "execution_count": null,
      "metadata": {
        "id": "u0yvSulzJtTg"
      },
      "outputs": [],
      "source": [
        "# The value of pi\n",
        "\n",
        "np.pi"
      ]
    },
    {
      "cell_type": "markdown",
      "metadata": {
        "id": "v4zzX-PrJtTg"
      },
      "source": [
        "We can create the following numpy array in Radians:\n"
      ]
    },
    {
      "cell_type": "code",
      "execution_count": null,
      "metadata": {
        "id": "NC_yAxfqJtTg"
      },
      "outputs": [],
      "source": [
        "# Create the numpy array in radians\n",
        "\n",
        "x = np.array([0, np.pi/2 , np.pi])"
      ]
    },
    {
      "cell_type": "markdown",
      "metadata": {
        "id": "acrNoNRXJtTh"
      },
      "source": [
        "We can apply the function <code>sin</code> to the array <code>x</code> and assign the values to the array <code>y</code>; this applies the sine function to each element in the array:\n"
      ]
    },
    {
      "cell_type": "code",
      "execution_count": null,
      "metadata": {
        "id": "n2uZm7FzJtTh"
      },
      "outputs": [],
      "source": [
        "# Calculate the sin of each elements\n",
        "\n",
        "y = np.sin(x)\n",
        "y"
      ]
    },
    {
      "cell_type": "markdown",
      "metadata": {
        "id": "TwjVgmMiJtTi"
      },
      "source": [
        "<hr>\n"
      ]
    },
    {
      "cell_type": "markdown",
      "metadata": {
        "id": "hbUZBzcOJtTi"
      },
      "source": [
        "<h2 id=\"lin\">Linspace</h2>\n"
      ]
    },
    {
      "cell_type": "markdown",
      "metadata": {
        "id": "mfAflcdaJtTi"
      },
      "source": [
        "A useful function for plotting mathematical functions is <code>linspace</code>.   Linspace returns evenly spaced numbers over a specified interval.\n",
        "\n",
        "**numpy.linspace(start, stop, num = int value)**\n",
        "\n",
        "start  :  start of interval range\n",
        "\n",
        "stop   :  end of interval range\n",
        "\n",
        "num    :  Number of samples to generate.\n"
      ]
    },
    {
      "cell_type": "code",
      "execution_count": null,
      "metadata": {
        "id": "_JIFPbRVJtTi"
      },
      "outputs": [],
      "source": [
        "# Makeup a numpy array within [-2, 2] and 5 elements\n",
        "\n",
        "np.linspace(-2, 2, num=5)"
      ]
    },
    {
      "cell_type": "markdown",
      "metadata": {
        "id": "XkP7jo8yJtTi"
      },
      "source": [
        "If we change the parameter <code>num</code> to 9, we get 9 evenly spaced numbers over the interval from -2 to 2:\n"
      ]
    },
    {
      "cell_type": "code",
      "execution_count": null,
      "metadata": {
        "id": "GxDoeiQlJtTi"
      },
      "outputs": [],
      "source": [
        "# Make a numpy array within [-2, 2] and 9 elements\n",
        "\n",
        "np.linspace(-2, 2, num=9)"
      ]
    },
    {
      "cell_type": "markdown",
      "metadata": {
        "id": "AZs8v-2TJtTi"
      },
      "source": [
        "We can use the function <code>linspace</code> to generate 100 evenly spaced samples from the interval 0 to 2π:\n"
      ]
    },
    {
      "cell_type": "code",
      "execution_count": null,
      "metadata": {
        "id": "mn9l8mXsJtTj"
      },
      "outputs": [],
      "source": [
        "# Make a numpy array within [0, 2π] and 100 elements \n",
        "\n",
        "x = np.linspace(0, 2*np.pi, num=100)"
      ]
    },
    {
      "cell_type": "markdown",
      "metadata": {
        "id": "Wfbj5rMzJtTj"
      },
      "source": [
        "We can apply the sine function to each element in the array <code>x</code> and assign it to the array <code>y</code>:\n"
      ]
    },
    {
      "cell_type": "code",
      "execution_count": null,
      "metadata": {
        "id": "VshmZmwuJtTj"
      },
      "outputs": [],
      "source": [
        "# Calculate the sine of x list\n",
        "\n",
        "y = np.sin(x)"
      ]
    },
    {
      "cell_type": "code",
      "execution_count": null,
      "metadata": {
        "id": "pU_oIVQ1JtTj"
      },
      "outputs": [],
      "source": [
        "# Plot the result\n",
        "\n",
        "plt.plot(x, y)"
      ]
    },
    {
      "cell_type": "markdown",
      "metadata": {
        "id": "UcjSOCGlJtTj"
      },
      "source": [
        "### Try it yourself\n",
        "\n",
        "Make a numpy array within \\[5, 4] and 6 elements\n"
      ]
    },
    {
      "cell_type": "code",
      "execution_count": null,
      "metadata": {
        "id": "rgVvo7f9JtTj"
      },
      "outputs": [],
      "source": [
        "# Enter your code here\n"
      ]
    },
    {
      "cell_type": "markdown",
      "metadata": {
        "id": "ULTgejZcJtTj"
      },
      "source": [
        "<details><summary>Click here for the solution</summary>\n",
        "\n",
        "```python\n",
        "np.linspace(5, 4, num=6)\n",
        "\n",
        "    \n",
        "```\n",
        "\n",
        "</details>\n"
      ]
    },
    {
      "cell_type": "markdown",
      "metadata": {
        "id": "0Z1Jh4ilJtTk"
      },
      "source": [
        "<hr>\n"
      ]
    },
    {
      "cell_type": "markdown",
      "metadata": {
        "id": "mcr1YI7qJtTk"
      },
      "source": [
        "### Iterating 1-D Arrays\n",
        "\n",
        "Iterating means going through elements one by one.\n",
        "\n",
        "If we iterate on a 1-D array it will go through each element one by one.\n"
      ]
    },
    {
      "cell_type": "markdown",
      "metadata": {
        "id": "hzVdZDOcJtTk"
      },
      "source": [
        "If we execute the numpy array, we get in the array format\n"
      ]
    },
    {
      "cell_type": "code",
      "execution_count": null,
      "metadata": {
        "id": "T3npGJMeJtTk"
      },
      "outputs": [],
      "source": [
        "arr1 = np.array([1, 2, 3])\n",
        "print(arr1)"
      ]
    },
    {
      "cell_type": "markdown",
      "metadata": {
        "id": "w2CzMU-cJtTk"
      },
      "source": [
        "But if you want to result in the form of the list, then you can use for loop:\n"
      ]
    },
    {
      "cell_type": "code",
      "execution_count": null,
      "metadata": {
        "id": "9rQUysu6JtTk"
      },
      "outputs": [],
      "source": [
        "for x in arr1:\n",
        "  print(x)"
      ]
    },
    {
      "cell_type": "markdown",
      "metadata": {
        "id": "OY2EZ89VJtTk"
      },
      "source": [
        "<h2 id=\"quiz\">Quiz on 1D Numpy Array</h2>\n"
      ]
    },
    {
      "cell_type": "markdown",
      "metadata": {
        "id": "enSazSh3JtTk"
      },
      "source": [
        "Implement the following vector subtraction in numpy: u-v\n"
      ]
    },
    {
      "cell_type": "code",
      "execution_count": null,
      "metadata": {
        "id": "zlxzqS7SJtTk"
      },
      "outputs": [],
      "source": [
        "# Write your code below and press Shift+Enter to execute\n",
        "\n",
        "u = np.array([1, 0])\n",
        "v = np.array([0, 1])"
      ]
    },
    {
      "cell_type": "markdown",
      "metadata": {
        "id": "tAQEMd5BJtTl"
      },
      "source": [
        "<details><summary>Click here for the solution</summary>\n",
        "\n",
        "```python\n",
        "u - v\n",
        "```\n",
        "\n",
        "</details>\n"
      ]
    },
    {
      "cell_type": "markdown",
      "metadata": {
        "id": "cAP-8cbWJtTl"
      },
      "source": [
        "<hr>\n"
      ]
    },
    {
      "cell_type": "markdown",
      "metadata": {
        "id": "xQKU9XIYJtTl"
      },
      "source": [
        "Multiply the numpy array z with -2:\n"
      ]
    },
    {
      "cell_type": "code",
      "execution_count": null,
      "metadata": {
        "id": "jwTo-tNiJtTl"
      },
      "outputs": [],
      "source": [
        "# Write your code below and press Shift+Enter to execute\n",
        "\n",
        "z = np.array([2, 4])"
      ]
    },
    {
      "cell_type": "markdown",
      "metadata": {
        "id": "hOfM8Kz5JtTl"
      },
      "source": [
        "<details><summary>Click here for the solution</summary>\n",
        "\n",
        "```python\n",
        "-2 * z\n",
        "```\n",
        "\n",
        "</details>\n"
      ]
    },
    {
      "cell_type": "markdown",
      "metadata": {
        "id": "B5eLNFj8JtTl"
      },
      "source": [
        "<hr>\n"
      ]
    },
    {
      "cell_type": "markdown",
      "metadata": {
        "id": "JyVCG75iJtTl"
      },
      "source": [
        "Consider the list <code>\\[1, 2, 3, 4, 5]</code> and <code>\\[1, 0, 1, 0, 1]</code>. Cast both lists to a numpy array then multiply them together:\n"
      ]
    },
    {
      "cell_type": "code",
      "execution_count": null,
      "metadata": {
        "id": "Q-eD6rtTJtTl"
      },
      "outputs": [],
      "source": [
        "# Write your code below and press Shift+Enter to execute\n"
      ]
    },
    {
      "cell_type": "markdown",
      "metadata": {
        "id": "qHHweRMpJtTl"
      },
      "source": [
        "<details><summary>Click here for the solution</summary>\n",
        "\n",
        "```python\n",
        "a = np.array([1, 2, 3, 4, 5])\n",
        "b = np.array([1, 0, 1, 0, 1])\n",
        "a * b\n",
        "```\n",
        "\n",
        "</details>\n"
      ]
    },
    {
      "cell_type": "markdown",
      "metadata": {
        "id": "uJHfajyTJtTl"
      },
      "source": [
        "<hr>\n"
      ]
    },
    {
      "cell_type": "code",
      "execution_count": null,
      "metadata": {
        "id": "egMT3S54JtTm"
      },
      "outputs": [],
      "source": [
        "# Import the libraries\n",
        "\n",
        "import time \n",
        "import sys\n",
        "import numpy as np \n",
        "\n",
        "import matplotlib.pyplot as plt\n",
        "%matplotlib inline  \n",
        "\n",
        "def Plotvec2(a,b):\n",
        "    ax = plt.axes()# to generate the full window axes\n",
        "    ax.arrow(0, 0, *a, head_width=0.05, color ='r', head_length=0.1)#Add an arrow to the  a Axes with arrow head width 0.05, color red and arrow head length 0.1\n",
        "    plt.text(*(a + 0.1), 'a')\n",
        "    ax.arrow(0, 0, *b, head_width=0.05, color ='b', head_length=0.1)#Add an arrow to the  b Axes with arrow head width 0.05, color blue and arrow head length 0.1\n",
        "    plt.text(*(b + 0.1), 'b')\n",
        "    plt.ylim(-2, 2)#set the ylim to bottom(-2), top(2)\n",
        "    plt.xlim(-2, 2)#set the xlim to left(-2), right(2)\n",
        "    \n",
        "    \n"
      ]
    },
    {
      "cell_type": "markdown",
      "metadata": {
        "id": "m2qf_GxkJtTm"
      },
      "source": [
        "Convert the list <code>\\[-1, 1]</code> and <code>\\[1, 1]</code> to numpy arrays <code>a</code> and <code>b</code>. Then, plot the arrays as vectors using the fuction <code>Plotvec2</code> and find their dot product:\n"
      ]
    },
    {
      "cell_type": "code",
      "execution_count": null,
      "metadata": {
        "id": "N92j45C1JtTm"
      },
      "outputs": [],
      "source": [
        "# Write your code below and press Shift+Enter to execute\n"
      ]
    },
    {
      "cell_type": "markdown",
      "metadata": {
        "id": "UkekANM2JtTm"
      },
      "source": [
        "<details><summary>Click here for the solution</summary>\n",
        "\n",
        "```python\n",
        "\n",
        "\n",
        "a = np.array([-1, 1])\n",
        "b = np.array([1, 1])\n",
        "Plotvec2(a, b)\n",
        "print(\"The dot product is\", np.dot(a,b))\n",
        "\n",
        "```\n",
        "\n",
        "</details>\n"
      ]
    },
    {
      "cell_type": "markdown",
      "metadata": {
        "id": "oAiAhic0JtTm"
      },
      "source": [
        "<hr>\n"
      ]
    },
    {
      "cell_type": "markdown",
      "metadata": {
        "id": "2xYHcHKrJtTm"
      },
      "source": [
        "Convert the list <code>\\[1, 0]</code> and <code>\\[0, 1]</code> to numpy arrays <code>a</code> and <code>b</code>. Then, plot the arrays as vectors using the function <code>Plotvec2</code> and find their dot product:\n"
      ]
    },
    {
      "cell_type": "code",
      "execution_count": null,
      "metadata": {
        "id": "1xB4Kqg2JtTm"
      },
      "outputs": [],
      "source": [
        "# Write your code below and press Shift+Enter to execute\n"
      ]
    },
    {
      "cell_type": "markdown",
      "metadata": {
        "id": "6Z0KSXeMJtTm"
      },
      "source": [
        "<details><summary>Click here for the solution</summary>\n",
        "\n",
        "```python\n",
        "a = np.array([1, 0])\n",
        "b = np.array([0, 1])\n",
        "Plotvec2(a, b)\n",
        "print(\"The dot product is\", np.dot(a, b))\n",
        "\n",
        "```\n",
        "\n",
        "</details>\n"
      ]
    },
    {
      "cell_type": "markdown",
      "metadata": {
        "id": "esb-BkfcJtTm"
      },
      "source": [
        "<hr>\n"
      ]
    },
    {
      "cell_type": "markdown",
      "metadata": {
        "id": "7EJ27vfmJtTn"
      },
      "source": [
        "Convert the list <code>\\[1, 1]</code> and <code>\\[0, 1]</code> to numpy arrays <code>a</code> and <code>b</code>. Then plot the arrays as vectors using the fuction <code>Plotvec2</code> and find their dot product:\n"
      ]
    },
    {
      "cell_type": "code",
      "execution_count": null,
      "metadata": {
        "id": "MfwTvuE8JtTn"
      },
      "outputs": [],
      "source": [
        "# Write your code below and press Shift+Enter to execute\n"
      ]
    },
    {
      "cell_type": "markdown",
      "metadata": {
        "id": "fkBqHtDGJtTn"
      },
      "source": [
        "<details><summary>Click here for the solution</summary>\n",
        "\n",
        "```python\n",
        "a = np.array([1, 1])\n",
        "b = np.array([0, 1])\n",
        "Plotvec2(a, b)\n",
        "print(\"The dot product is\", np.dot(a, b))\n",
        "\n",
        "```\n",
        "\n",
        "</details>\n"
      ]
    },
    {
      "cell_type": "markdown",
      "metadata": {
        "id": "etL78FRoJtTn"
      },
      "source": [
        "<hr>\n"
      ]
    },
    {
      "cell_type": "markdown",
      "metadata": {
        "id": "RQ6rZ1uiJtTn"
      },
      "source": [
        "Why are the results of the dot product for <code>\\[-1, 1]</code> and <code>\\[1, 1]</code> and the dot product for <code>\\[1, 0]</code> and <code>\\[0, 1]</code> zero, but not zero for the dot product for <code>\\[1, 1]</code> and <code>\\[0, 1]</code>? <p><i>Hint: Study the corresponding figures, pay attention to the direction the arrows are pointing to.</i></p>\n"
      ]
    },
    {
      "cell_type": "code",
      "execution_count": null,
      "metadata": {
        "id": "QxGWNQgUJtTn"
      },
      "outputs": [],
      "source": [
        "# Write your code below and press Shift+Enter to execute\n"
      ]
    },
    {
      "cell_type": "markdown",
      "metadata": {
        "id": "4cJ-k4LgJtTn"
      },
      "source": [
        "<details><summary>Click here for the solution</summary>\n",
        "\n",
        "```python\n",
        "The vectors used for question 4 and 5 are perpendicular. As a result, the dot product is zero. \n",
        "\n",
        "```\n",
        "\n",
        "</details>\n"
      ]
    },
    {
      "cell_type": "markdown",
      "metadata": {
        "id": "9E2Siqo9JtTn"
      },
      "source": [
        "Convert the list <code>\\[1, 2, 3]</code> and <code>\\[8, 9, 10]</code> to numpy arrays <code>arr1</code> and <code>arr2</code>. Then perform <code>Addition</code> , <code>Subtraction</code> , <code>Multiplication</code> , <code>Division</code> and <code>Dot Operation</code> on the <code>arr1</code> and <code>arr2</code>.\n"
      ]
    },
    {
      "cell_type": "code",
      "execution_count": null,
      "metadata": {
        "id": "NKMNpLi8JtTn"
      },
      "outputs": [],
      "source": [
        "# Write your code below and press Shift+Enter to execute\n"
      ]
    },
    {
      "cell_type": "markdown",
      "metadata": {
        "id": "yMKLsoIZJtTo"
      },
      "source": [
        "<details><summary>Click here for the solution</summary>\n",
        "\n",
        "```python\n",
        "arr1 = np.array([1, 2, 3])\n",
        "arr2 = np.array([8, 9, 10])\n",
        "\n",
        "arr3 = np.add(arr1, arr2)\n",
        "arr3\n",
        "\n",
        "arr4 = np.subtract(arr1, arr2)\n",
        "arr4\n",
        "\n",
        "arr5 = np.multiply(arr1, arr2)\n",
        "arr5\n",
        "\n",
        "\n",
        "arr6 = np.divide(arr1, arr2)\n",
        "arr6\n",
        "\n",
        "arr7 = np.dot(arr1, arr2)\n",
        "arr7\n",
        "```\n",
        "\n",
        "</details>\n"
      ]
    },
    {
      "cell_type": "markdown",
      "metadata": {
        "id": "xI5lazjqJtTo"
      },
      "source": [
        "Convert the list <code>\\[1, 2, 3, 4, 5]</code> and <code>\\[6, 7, 8, 9, 10]</code> to numpy arrays <code>arr1</code> and <code>arr2</code>. Then find the even and odd numbers from <code>arr1</code> and <code>arr2</code>.\n"
      ]
    },
    {
      "cell_type": "code",
      "execution_count": null,
      "metadata": {
        "id": "_C4h1kx-JtTo"
      },
      "outputs": [],
      "source": [
        "# Write your code below and press Shift+Enter to execute\n",
        "\n"
      ]
    },
    {
      "cell_type": "markdown",
      "metadata": {
        "id": "-6Zv2XprJtTo"
      },
      "source": [
        "<details><summary>Click here for the solution</summary>\n",
        "\n",
        "```python\n",
        "arr1 = np.array([1, 2, 3, 4, 5])\n",
        "arr2 = np.array([6, 7, 8, 9, 10])\n",
        "\n",
        "x = arr1[1:8:2]\n",
        "x\n",
        "   \n",
        "y = arr2[0:8:2]\n",
        "y   \n",
        "\n",
        "```\n",
        "\n",
        "</details>\n"
      ]
    },
    {
      "cell_type": "markdown",
      "metadata": {
        "id": "VuoaB7OvJtTo"
      },
      "source": [
        "<hr>\n",
        "<h2>The last exercise!</h2>\n",
        "<p>Congratulations, you have completed your first lesson and hands-on lab in Python. \n",
        "<hr>\n"
      ]
    },
    {
      "cell_type": "markdown",
      "metadata": {
        "id": "4eZwch8IJtTo"
      },
      "source": [
        "## Author\n",
        "\n",
        "<a href=\"https://www.linkedin.com/in/joseph-s-50398b136/?utm_medium=Exinfluencer&utm_source=Exinfluencer&utm_content=000026UJ&utm_term=10006555&utm_id=NA-SkillsNetwork-Channel-SkillsNetworkCoursesIBMDeveloperSkillsNetworkPY0101ENSkillsNetwork19487395-2021-01-01\" target=\"_blank\">Joseph Santarcangelo</a>\n",
        "\n",
        "## Other contributors\n",
        "\n",
        "<a href=\"https://www.linkedin.com/in/jiahui-mavis-zhou-a4537814a?utm_medium=Exinfluencer&utm_source=Exinfluencer&utm_content=000026UJ&utm_term=10006555&utm_id=NA-SkillsNetwork-Channel-SkillsNetworkCoursesIBMDeveloperSkillsNetworkPY0101ENSkillsNetwork19487395-2021-01-01\">Mavis Zhou</a>\n",
        "\n",
        "## Change Log\n",
        "\n",
        "| Date (YYYY-MM-DD) | Version | Changed By | Change Description                  |\n",
        "| ----------------- | ------- | ---------- | ----------------------------------- |\n",
        "| 2022-03-08        | 2.2     | Niveditha  | Modified and added practice problem |\n",
        "| 2022-01-10        | 2.1     | Malika     | Removed the readme for GitShare     |\n",
        "| 2020-08-26        | 2.0     | Lavanya    | Moved lab to course repo in GitLab  |\n",
        "|                   |         |            |                                     |\n",
        "|                   |         |            |                                     |\n",
        "\n",
        "<hr/>\n",
        "\n",
        "## <h3 align=\"center\"> © IBM Corporation 2020. All rights reserved. <h3/>\n"
      ]
    },
    {
      "cell_type": "code",
      "execution_count": null,
      "metadata": {
        "id": "l9fJy8CWJtTo"
      },
      "outputs": [],
      "source": []
    }
  ],
  "metadata": {
    "kernelspec": {
      "display_name": "Python 3",
      "language": "python",
      "name": "python3"
    },
    "language_info": {
      "codemirror_mode": {
        "name": "ipython",
        "version": 3
      },
      "file_extension": ".py",
      "mimetype": "text/x-python",
      "name": "python",
      "nbconvert_exporter": "python",
      "pygments_lexer": "ipython3",
      "version": "3.8.8"
    },
    "colab": {
      "provenance": [],
      "include_colab_link": true
    }
  },
  "nbformat": 4,
  "nbformat_minor": 0
}