{
  "cells": [
    {
      "cell_type": "markdown",
      "metadata": {
        "id": "view-in-github",
        "colab_type": "text"
      },
      "source": [
        "<a href=\"https://colab.research.google.com/github/jperezumanizales/Fundamentos-de-programacion-Noche/blob/main/PY0101EN_2_1_Tuples.ipynb\" target=\"_parent\"><img src=\"https://colab.research.google.com/assets/colab-badge.svg\" alt=\"Open In Colab\"/></a>"
      ]
    },
    {
      "cell_type": "markdown",
      "metadata": {
        "id": "d-lZ_emhC71o"
      },
      "source": [
        "<p style=\"text-align:center\">\n",
        "    <a href=\"https://skills.network/?utm_medium=Exinfluencer&utm_source=Exinfluencer&utm_content=000026UJ&utm_term=10006555&utm_id=NA-SkillsNetwork-Channel-SkillsNetworkCoursesIBMDeveloperSkillsNetworkPY0101ENSkillsNetwork19487395-2022-01-01\" target=\"_blank\">\n",
        "    <img src=\"https://cf-courses-data.s3.us.cloud-object-storage.appdomain.cloud/assets/logos/SN_web_lightmode.png\" width=\"200\" alt=\"Skills Network Logo\"  />\n",
        "    </a>\n",
        "</p>\n",
        "\n",
        "# Tuples in Python\n",
        "\n",
        "Estimated time needed: **15** minutes\n",
        "\n",
        "## Objectives\n",
        "\n",
        "After completing this lab you will be able to:\n",
        "\n",
        "*   Perform the basics tuple operations in Python, including indexing, slicing and sorting\n"
      ]
    },
    {
      "cell_type": "markdown",
      "metadata": {
        "id": "dlNDaS24C71u"
      },
      "source": [
        "<h2>Table of Contents</h2>\n",
        "<div class=\"alert alert-block alert-info\" style=\"margin-top: 20px\">\n",
        "    <ul>\n",
        "        <li>\n",
        "            <a href=\"https://#dataset\">About the Dataset</a>\n",
        "        </li>\n",
        "        <li>\n",
        "            <a href=\"https://#tuple\">Tuples</a>\n",
        "            <ul>\n",
        "                <li><a href=\"https://index/?utm_medium=Exinfluencer&utm_source=Exinfluencer&utm_content=000026UJ&utm_term=10006555&utm_id=NA-SkillsNetwork-Channel-SkillsNetworkCoursesIBMDeveloperSkillsNetworkPY0101ENSkillsNetwork19487395-2022-01-01\">Indexing</a></li>\n",
        "                <li><a href=\"https://slice/?utm_medium=Exinfluencer&utm_source=Exinfluencer&utm_content=000026UJ&utm_term=10006555&utm_id=NA-SkillsNetwork-Channel-SkillsNetworkCoursesIBMDeveloperSkillsNetworkPY0101ENSkillsNetwork19487395-2022-01-01\">Slicing</a></li>\n",
        "                <li><a href=\"https://sort/?utm_medium=Exinfluencer&utm_source=Exinfluencer&utm_content=000026UJ&utm_term=10006555&utm_id=NA-SkillsNetwork-Channel-SkillsNetworkCoursesIBMDeveloperSkillsNetworkPY0101ENSkillsNetwork19487395-2022-01-01\">Sorting</a></li>\n",
        "            </ul>\n",
        "        </li>\n",
        "        <li>\n",
        "            <a href=\"https://#escape\">Quiz on Tuples</a>\n",
        "        </li>\n",
        "    </ul>\n",
        "\n",
        "</div>\n",
        "\n",
        "<hr>\n"
      ]
    },
    {
      "cell_type": "markdown",
      "metadata": {
        "id": "aEXoDGn0C71w"
      },
      "source": [
        "<h2 id=\"dataset\">About the Dataset</h2>\n"
      ]
    },
    {
      "cell_type": "markdown",
      "metadata": {
        "id": "XL1Ziq8-C71w"
      },
      "source": [
        "Imagine you received album recommendations from your friends and compiled all of the recommendations into a table, with specific information about each album.\n",
        "\n",
        "The table has one row for each movie and several columns:\n",
        "\n",
        "*   **artist** - Name of the artist\n",
        "*   **album** - Name of the album\n",
        "*   **released_year** - Year the album was released\n",
        "*   **length_min_sec** - Length of the album (hours,minutes,seconds)\n",
        "*   **genre** - Genre of the album\n",
        "*   **music_recording_sales_millions** - Music recording sales (millions in USD) on [SONG://DATABASE](http://www.song-database.com/?utm_medium=Exinfluencer&utm_source=Exinfluencer&utm_content=000026UJ&utm_term=10006555&utm_id=NA-SkillsNetwork-Channel-SkillsNetworkCoursesIBMDeveloperSkillsNetworkPY0101ENSkillsNetwork19487395-2022-01-01)\n",
        "*   **claimed_sales_millions** - Album's claimed sales (millions in USD) on [SONG://DATABASE](http://www.song-database.com/?utm_medium=Exinfluencer&utm_source=Exinfluencer&utm_content=000026UJ&utm_term=10006555&utm_id=NA-SkillsNetwork-Channel-SkillsNetworkCoursesIBMDeveloperSkillsNetworkPY0101ENSkillsNetwork19487395-2022-01-01)\n",
        "*   **date_released** - Date on which the album was released\n",
        "*   **soundtrack** - Indicates if the album is the movie soundtrack (Y) or (N)\n",
        "*   **rating_of_friends** - Indicates the rating from your friends from 1 to 10\n",
        "\n",
        "<br>\n",
        "<br>\n",
        "\n",
        "The dataset can be seen below:\n",
        "\n",
        "<font size=\"1\">\n",
        "<table font-size:xx-small>\n",
        "  <tr>\n",
        "    <th>Artist</th>\n",
        "    <th>Album</th> \n",
        "    <th>Released</th>\n",
        "    <th>Length</th>\n",
        "    <th>Genre</th> \n",
        "    <th>Music recording sales (millions)</th>\n",
        "    <th>Claimed sales (millions)</th>\n",
        "    <th>Released</th>\n",
        "    <th>Soundtrack</th>\n",
        "    <th>Rating (friends)</th>\n",
        "  </tr>\n",
        "  <tr>\n",
        "    <td>Michael Jackson</td>\n",
        "    <td>Thriller</td> \n",
        "    <td>1982</td>\n",
        "    <td>00:42:19</td>\n",
        "    <td>Pop, rock, R&B</td>\n",
        "    <td>46</td>\n",
        "    <td>65</td>\n",
        "    <td>30-Nov-82</td>\n",
        "    <td></td>\n",
        "    <td>10.0</td>\n",
        "  </tr>\n",
        "  <tr>\n",
        "    <td>AC/DC</td>\n",
        "    <td>Back in Black</td> \n",
        "    <td>1980</td>\n",
        "    <td>00:42:11</td>\n",
        "    <td>Hard rock</td>\n",
        "    <td>26.1</td>\n",
        "    <td>50</td>\n",
        "    <td>25-Jul-80</td>\n",
        "    <td></td>\n",
        "    <td>8.5</td>\n",
        "  </tr>\n",
        "    <tr>\n",
        "    <td>Pink Floyd</td>\n",
        "    <td>The Dark Side of the Moon</td> \n",
        "    <td>1973</td>\n",
        "    <td>00:42:49</td>\n",
        "    <td>Progressive rock</td>\n",
        "    <td>24.2</td>\n",
        "    <td>45</td>\n",
        "    <td>01-Mar-73</td>\n",
        "    <td></td>\n",
        "    <td>9.5</td>\n",
        "  </tr>\n",
        "    <tr>\n",
        "    <td>Whitney Houston</td>\n",
        "    <td>The Bodyguard</td> \n",
        "    <td>1992</td>\n",
        "    <td>00:57:44</td>\n",
        "    <td>Soundtrack/R&B, soul, pop</td>\n",
        "    <td>26.1</td>\n",
        "    <td>50</td>\n",
        "    <td>25-Jul-80</td>\n",
        "    <td>Y</td>\n",
        "    <td>7.0</td>\n",
        "  </tr>\n",
        "    <tr>\n",
        "    <td>Meat Loaf</td>\n",
        "    <td>Bat Out of Hell</td> \n",
        "    <td>1977</td>\n",
        "    <td>00:46:33</td>\n",
        "    <td>Hard rock, progressive rock</td>\n",
        "    <td>20.6</td>\n",
        "    <td>43</td>\n",
        "    <td>21-Oct-77</td>\n",
        "    <td></td>\n",
        "    <td>7.0</td>\n",
        "  </tr>\n",
        "    <tr>\n",
        "    <td>Eagles</td>\n",
        "    <td>Their Greatest Hits (1971-1975)</td> \n",
        "    <td>1976</td>\n",
        "    <td>00:43:08</td>\n",
        "    <td>Rock, soft rock, folk rock</td>\n",
        "    <td>32.2</td>\n",
        "    <td>42</td>\n",
        "    <td>17-Feb-76</td>\n",
        "    <td></td>\n",
        "    <td>9.5</td>\n",
        "  </tr>\n",
        "    <tr>\n",
        "    <td>Bee Gees</td>\n",
        "    <td>Saturday Night Fever</td> \n",
        "    <td>1977</td>\n",
        "    <td>1:15:54</td>\n",
        "    <td>Disco</td>\n",
        "    <td>20.6</td>\n",
        "    <td>40</td>\n",
        "    <td>15-Nov-77</td>\n",
        "    <td>Y</td>\n",
        "    <td>9.0</td>\n",
        "  </tr>\n",
        "    <tr>\n",
        "    <td>Fleetwood Mac</td>\n",
        "    <td>Rumours</td> \n",
        "    <td>1977</td>\n",
        "    <td>00:40:01</td>\n",
        "    <td>Soft rock</td>\n",
        "    <td>27.9</td>\n",
        "    <td>40</td>\n",
        "    <td>04-Feb-77</td>\n",
        "    <td></td>\n",
        "    <td>9.5</td>\n",
        "  </tr>\n",
        "</table></font>\n"
      ]
    },
    {
      "cell_type": "markdown",
      "metadata": {
        "id": "RoBzKVqRC71y"
      },
      "source": [
        "<hr>\n"
      ]
    },
    {
      "cell_type": "markdown",
      "metadata": {
        "id": "hWAr7gjdC71z"
      },
      "source": [
        "<h2 id=\"tuple\">Tuples</h2>\n"
      ]
    },
    {
      "cell_type": "markdown",
      "metadata": {
        "id": "bbAGBkcyC71z"
      },
      "source": [
        "In Python, there are different data types: string, integer, and float. These data types can all be contained in a tuple as follows:\n"
      ]
    },
    {
      "cell_type": "markdown",
      "metadata": {
        "id": "1c51UixaC710"
      },
      "source": [
        "<img src=\"https://cf-courses-data.s3.us.cloud-object-storage.appdomain.cloud/IBMDeveloperSkillsNetwork-PY0101EN-SkillsNetwork/labs/Module%202/images/TuplesType.png\" width=\"750\" align=\"center\" />\n"
      ]
    },
    {
      "cell_type": "markdown",
      "metadata": {
        "id": "YY_g7ZJ0C711"
      },
      "source": [
        "Now, let us create your first tuple with string, integer and float.\n"
      ]
    },
    {
      "cell_type": "code",
      "execution_count": 1,
      "metadata": {
        "id": "j9UgtaOXC712",
        "outputId": "60936746-1c3d-4d6b-ad1c-f3a080f2d4c6",
        "colab": {
          "base_uri": "https://localhost:8080/"
        }
      },
      "outputs": [
        {
          "output_type": "execute_result",
          "data": {
            "text/plain": [
              "('disco', 10, 1.2)"
            ]
          },
          "metadata": {},
          "execution_count": 1
        }
      ],
      "source": [
        "# Create your first tuple\n",
        "\n",
        "tuple1 = (\"disco\",10,1.2 )\n",
        "tuple1"
      ]
    },
    {
      "cell_type": "markdown",
      "metadata": {
        "id": "ti5PfRC_C713"
      },
      "source": [
        "The type of variable is a **tuple**.\n"
      ]
    },
    {
      "cell_type": "code",
      "execution_count": 2,
      "metadata": {
        "id": "emjg2wl5C714",
        "outputId": "db01ca63-56f5-4d9e-de66-d53b1a08dbf3",
        "colab": {
          "base_uri": "https://localhost:8080/"
        }
      },
      "outputs": [
        {
          "output_type": "execute_result",
          "data": {
            "text/plain": [
              "tuple"
            ]
          },
          "metadata": {},
          "execution_count": 2
        }
      ],
      "source": [
        "# Print the type of the tuple you created\n",
        "\n",
        "type(tuple1)"
      ]
    },
    {
      "cell_type": "markdown",
      "metadata": {
        "id": "_R72FyYlC714"
      },
      "source": [
        "<h3 id=\"index\">Indexing</h3>\n"
      ]
    },
    {
      "cell_type": "markdown",
      "metadata": {
        "id": "voDAqvlaC714"
      },
      "source": [
        "Each element of a tuple can be accessed via an index. The following table represents the relationship between the index and the items in the tuple. Each element can be obtained by the name of the tuple followed by a square bracket with the index number:\n"
      ]
    },
    {
      "cell_type": "markdown",
      "metadata": {
        "id": "e7eN_6j3C715"
      },
      "source": [
        "<img src=\"https://cf-courses-data.s3.us.cloud-object-storage.appdomain.cloud/IBMDeveloperSkillsNetwork-PY0101EN-SkillsNetwork/labs/Module%202/images/TuplesIndex.gif\" width=\"750\" align=\"center\">\n"
      ]
    },
    {
      "cell_type": "markdown",
      "metadata": {
        "id": "QRdPCowzC715"
      },
      "source": [
        "We can print out each value in the tuple:\n"
      ]
    },
    {
      "cell_type": "code",
      "execution_count": 3,
      "metadata": {
        "id": "vqWciKvRC715",
        "outputId": "d0870812-78e3-4939-db27-bf46c5f8e742",
        "colab": {
          "base_uri": "https://localhost:8080/"
        }
      },
      "outputs": [
        {
          "output_type": "stream",
          "name": "stdout",
          "text": [
            "disco\n",
            "10\n",
            "1.2\n"
          ]
        }
      ],
      "source": [
        "# Print the variable on each index\n",
        "\n",
        "print(tuple1[0])\n",
        "print(tuple1[1])\n",
        "print(tuple1[2])"
      ]
    },
    {
      "cell_type": "markdown",
      "metadata": {
        "id": "7Y6VssdkC716"
      },
      "source": [
        "We can print out the **type** of each value in the tuple:\n"
      ]
    },
    {
      "cell_type": "code",
      "execution_count": 4,
      "metadata": {
        "id": "biQltSpLC716",
        "outputId": "7a15ef5f-933a-474a-d5f0-e3d56b5dc7e2",
        "colab": {
          "base_uri": "https://localhost:8080/"
        }
      },
      "outputs": [
        {
          "output_type": "stream",
          "name": "stdout",
          "text": [
            "<class 'str'>\n",
            "<class 'int'>\n",
            "<class 'float'>\n"
          ]
        }
      ],
      "source": [
        "# Print the type of value on each index\n",
        "\n",
        "print(type(tuple1[0]))\n",
        "print(type(tuple1[1]))\n",
        "print(type(tuple1[2]))"
      ]
    },
    {
      "cell_type": "markdown",
      "metadata": {
        "id": "9Lq8iOntC716"
      },
      "source": [
        "We can also use negative indexing. We use the same table above with corresponding negative values:\n"
      ]
    },
    {
      "cell_type": "markdown",
      "metadata": {
        "id": "LpUX0Y9DC717"
      },
      "source": [
        "<img src=\"https://cf-courses-data.s3.us.cloud-object-storage.appdomain.cloud/IBMDeveloperSkillsNetwork-PY0101EN-SkillsNetwork/labs/Module%202/images/TuplesNeg.png\" width=\"750\" align=\"center\">\n"
      ]
    },
    {
      "cell_type": "markdown",
      "metadata": {
        "id": "5_zyVvXKC717"
      },
      "source": [
        "We can obtain the last element as follows (this time we will not use the print statement to display the values):\n"
      ]
    },
    {
      "cell_type": "code",
      "execution_count": 5,
      "metadata": {
        "id": "Z2tIeJ6kC717",
        "outputId": "92fec23f-b532-4903-f4d0-a7d811e83d7d",
        "colab": {
          "base_uri": "https://localhost:8080/"
        }
      },
      "outputs": [
        {
          "output_type": "execute_result",
          "data": {
            "text/plain": [
              "1.2"
            ]
          },
          "metadata": {},
          "execution_count": 5
        }
      ],
      "source": [
        "# Use negative index to get the value of the last element\n",
        "\n",
        "tuple1[-1]"
      ]
    },
    {
      "cell_type": "markdown",
      "metadata": {
        "id": "DgWYkxYuC718"
      },
      "source": [
        "We can display the next two elements as follows:\n"
      ]
    },
    {
      "cell_type": "code",
      "execution_count": 6,
      "metadata": {
        "id": "AV-IdK86C718",
        "outputId": "0de987af-87bb-4bca-d1ef-6171ca7dbe5a",
        "colab": {
          "base_uri": "https://localhost:8080/"
        }
      },
      "outputs": [
        {
          "output_type": "execute_result",
          "data": {
            "text/plain": [
              "10"
            ]
          },
          "metadata": {},
          "execution_count": 6
        }
      ],
      "source": [
        "# Use negative index to get the value of the second last element\n",
        "\n",
        "tuple1[-2]"
      ]
    },
    {
      "cell_type": "code",
      "execution_count": 7,
      "metadata": {
        "id": "vzwmt5YkC719",
        "outputId": "4d8bffbf-efc0-4790-945f-3b6f6dc89a62",
        "colab": {
          "base_uri": "https://localhost:8080/",
          "height": 35
        }
      },
      "outputs": [
        {
          "output_type": "execute_result",
          "data": {
            "text/plain": [
              "'disco'"
            ],
            "application/vnd.google.colaboratory.intrinsic+json": {
              "type": "string"
            }
          },
          "metadata": {},
          "execution_count": 7
        }
      ],
      "source": [
        "# Use negative index to get the value of the third last element\n",
        "\n",
        "tuple1[-3]"
      ]
    },
    {
      "cell_type": "markdown",
      "metadata": {
        "id": "G6A43qF2C719"
      },
      "source": [
        "<h3 id=\"concate\">Concatenate Tuples</h3>\n"
      ]
    },
    {
      "cell_type": "markdown",
      "metadata": {
        "id": "0SvSgsxDC719"
      },
      "source": [
        "We can concatenate or combine tuples by using the **+** sign:\n"
      ]
    },
    {
      "cell_type": "code",
      "execution_count": 8,
      "metadata": {
        "id": "0QCt62-vC719",
        "outputId": "c6895f71-a232-435e-8ada-9b6a59cc8ffc",
        "colab": {
          "base_uri": "https://localhost:8080/"
        }
      },
      "outputs": [
        {
          "output_type": "execute_result",
          "data": {
            "text/plain": [
              "('disco', 10, 1.2, 'hard rock', 10)"
            ]
          },
          "metadata": {},
          "execution_count": 8
        }
      ],
      "source": [
        "# Concatenate two tuples\n",
        "\n",
        "tuple2 = tuple1 + (\"hard rock\", 10)\n",
        "tuple2"
      ]
    },
    {
      "cell_type": "markdown",
      "metadata": {
        "id": "oG3Yw3QcC71-"
      },
      "source": [
        "We can slice tuples obtaining multiple values as demonstrated by the figure below:\n"
      ]
    },
    {
      "cell_type": "markdown",
      "metadata": {
        "id": "FAmPxwgGC71-"
      },
      "source": [
        "<img src=\"https://cf-courses-data.s3.us.cloud-object-storage.appdomain.cloud/IBMDeveloperSkillsNetwork-PY0101EN-SkillsNetwork/labs/Module%202/images/TuplesSlice.gif\" width=\"750\" align=\"center\">\n"
      ]
    },
    {
      "cell_type": "markdown",
      "metadata": {
        "id": "nWeIeEiJC71-"
      },
      "source": [
        "<h3 id=\"slice\">Slicing</h3>\n"
      ]
    },
    {
      "cell_type": "markdown",
      "metadata": {
        "id": "OLOoSkkuC71-"
      },
      "source": [
        "We can slice tuples, obtaining new tuples with the corresponding elements:\n"
      ]
    },
    {
      "cell_type": "code",
      "execution_count": 9,
      "metadata": {
        "id": "-N1MBVc-C71_",
        "outputId": "507994b8-d69a-4901-fd04-58f88b47be6d",
        "colab": {
          "base_uri": "https://localhost:8080/"
        }
      },
      "outputs": [
        {
          "output_type": "execute_result",
          "data": {
            "text/plain": [
              "('disco', 10, 1.2)"
            ]
          },
          "metadata": {},
          "execution_count": 9
        }
      ],
      "source": [
        "# Slice from index 0 to index 2\n",
        "\n",
        "tuple2[0:3]"
      ]
    },
    {
      "cell_type": "markdown",
      "metadata": {
        "id": "WpyAQII6C71_"
      },
      "source": [
        "We can obtain the last two elements of the tuple:\n"
      ]
    },
    {
      "cell_type": "code",
      "execution_count": 10,
      "metadata": {
        "id": "Qtt27Si_C71_",
        "outputId": "f56043f3-267b-43df-9d79-6157259e9dea",
        "colab": {
          "base_uri": "https://localhost:8080/"
        }
      },
      "outputs": [
        {
          "output_type": "execute_result",
          "data": {
            "text/plain": [
              "('hard rock', 10)"
            ]
          },
          "metadata": {},
          "execution_count": 10
        }
      ],
      "source": [
        "# Slice from index 3 to index 4\n",
        "\n",
        "tuple2[3:5]"
      ]
    },
    {
      "cell_type": "markdown",
      "metadata": {
        "id": "fxJVJXTXC71_"
      },
      "source": [
        "We can obtain the length of a tuple using the length command:\n"
      ]
    },
    {
      "cell_type": "code",
      "execution_count": 11,
      "metadata": {
        "id": "5I6BbNB1C71_",
        "outputId": "bc8052cb-a968-4ad5-b2e8-02aa080e0eb7",
        "colab": {
          "base_uri": "https://localhost:8080/"
        }
      },
      "outputs": [
        {
          "output_type": "execute_result",
          "data": {
            "text/plain": [
              "5"
            ]
          },
          "metadata": {},
          "execution_count": 11
        }
      ],
      "source": [
        "# Get the length of tuple\n",
        "\n",
        "len(tuple2)"
      ]
    },
    {
      "cell_type": "markdown",
      "metadata": {
        "id": "Tp_QqllXC72A"
      },
      "source": [
        "This figure shows the number of elements:\n"
      ]
    },
    {
      "cell_type": "markdown",
      "metadata": {
        "id": "_tfhT3sUC72A"
      },
      "source": [
        "<img src=\"https://cf-courses-data.s3.us.cloud-object-storage.appdomain.cloud/IBMDeveloperSkillsNetwork-PY0101EN-SkillsNetwork/labs/Module%202/images/TuplesElement.png\" width=\"750\" align=\"center\">\n"
      ]
    },
    {
      "cell_type": "markdown",
      "metadata": {
        "id": "mNtXpihTC72A"
      },
      "source": [
        "<h3 id=\"sort\">Sorting</h3>\n"
      ]
    },
    {
      "cell_type": "markdown",
      "metadata": {
        "id": "zPbOoKZFC72A"
      },
      "source": [
        "Consider the following tuple:\n"
      ]
    },
    {
      "cell_type": "code",
      "execution_count": 15,
      "metadata": {
        "collapsed": true,
        "id": "Mi4mS0B8C72B"
      },
      "outputs": [],
      "source": [
        "# A sample tuple\n",
        "\n",
        "Ratings = (0, 9, 6, 5, 10, 8, 9, 6, 2)"
      ]
    },
    {
      "cell_type": "markdown",
      "metadata": {
        "id": "v0TjSCCbC72B"
      },
      "source": [
        "We can sort the values in a tuple and save it to a new tuple:\n"
      ]
    },
    {
      "cell_type": "code",
      "execution_count": 14,
      "metadata": {
        "id": "lCeZ_l_jC72B",
        "outputId": "c2939615-a167-4f0c-d85a-0a38de0d9129",
        "colab": {
          "base_uri": "https://localhost:8080/"
        }
      },
      "outputs": [
        {
          "output_type": "execute_result",
          "data": {
            "text/plain": [
              "[0, 2, 5, 6, 6, 8, 9, 9, 10]"
            ]
          },
          "metadata": {},
          "execution_count": 14
        }
      ],
      "source": [
        "# Sort the tuple\n",
        "\n",
        "RatingsSorted = sorted(Ratings)\n",
        "RatingsSorted"
      ]
    },
    {
      "cell_type": "markdown",
      "metadata": {
        "id": "jLuAbvWcC72B"
      },
      "source": [
        "<h3 id=\"nest\">Nested Tuple</h3>\n"
      ]
    },
    {
      "cell_type": "markdown",
      "metadata": {
        "id": "BObrL7prC72B"
      },
      "source": [
        "A tuple can contain another tuple as well as other more complex data types. This process is called 'nesting'. Consider the following tuple with several elements:\n"
      ]
    },
    {
      "cell_type": "code",
      "execution_count": 16,
      "metadata": {
        "collapsed": true,
        "id": "H6I1jrfhC72C"
      },
      "outputs": [],
      "source": [
        "# Create a nest tuple\n",
        "\n",
        "NestedT =(1, 2, (\"pop\", \"rock\") ,(3,4),(\"disco\",(1,2)))"
      ]
    },
    {
      "cell_type": "markdown",
      "metadata": {
        "id": "MLZtzCYGC72C"
      },
      "source": [
        "Each element in the tuple, including other tuples, can be obtained via an index as shown in the figure:\n"
      ]
    },
    {
      "cell_type": "markdown",
      "metadata": {
        "id": "L1kaQMpyC72C"
      },
      "source": [
        "<img src=\"https://cf-courses-data.s3.us.cloud-object-storage.appdomain.cloud/IBMDeveloperSkillsNetwork-PY0101EN-SkillsNetwork/labs/Module%202/images/TuplesNestOne.png\" width=\"750\" align=\"center\">\n"
      ]
    },
    {
      "cell_type": "code",
      "execution_count": null,
      "metadata": {
        "id": "GkK7_OxsC72C"
      },
      "outputs": [],
      "source": [
        "# Print element on each index\n",
        "\n",
        "print(\"Element 0 of Tuple: \", NestedT[0])\n",
        "print(\"Element 1 of Tuple: \", NestedT[1])\n",
        "print(\"Element 2 of Tuple: \", NestedT[2])\n",
        "print(\"Element 3 of Tuple: \", NestedT[3])\n",
        "print(\"Element 4 of Tuple: \", NestedT[4])"
      ]
    },
    {
      "cell_type": "markdown",
      "metadata": {
        "id": "C5_YU2k1C72C"
      },
      "source": [
        "We can use the second index to access other tuples as demonstrated in the figure:\n"
      ]
    },
    {
      "cell_type": "markdown",
      "metadata": {
        "id": "f_jwrJErC72C"
      },
      "source": [
        "<img src=\"https://cf-courses-data.s3.us.cloud-object-storage.appdomain.cloud/IBMDeveloperSkillsNetwork-PY0101EN-SkillsNetwork/labs/Module%202/images/TuplesNestTwo.png\" width=\"750\" align=\"center\">\n"
      ]
    },
    {
      "cell_type": "markdown",
      "metadata": {
        "id": "h_ZhBs-2C72D"
      },
      "source": [
        "We can access the nested tuples:\n"
      ]
    },
    {
      "cell_type": "code",
      "execution_count": null,
      "metadata": {
        "id": "eYhwe0bjC72D"
      },
      "outputs": [],
      "source": [
        "# Print element on each index, including nest indexes\n",
        "\n",
        "print(\"Element 2, 0 of Tuple: \",   NestedT[2][0])\n",
        "print(\"Element 2, 1 of Tuple: \",   NestedT[2][1])\n",
        "print(\"Element 3, 0 of Tuple: \",   NestedT[3][0])\n",
        "print(\"Element 3, 1 of Tuple: \",   NestedT[3][1])\n",
        "print(\"Element 4, 0 of Tuple: \",   NestedT[4][0])\n",
        "print(\"Element 4, 1 of Tuple: \",   NestedT[4][1])"
      ]
    },
    {
      "cell_type": "markdown",
      "metadata": {
        "id": "bejChmcCC72D"
      },
      "source": [
        "We can access strings in the second nested tuples using a third index:\n"
      ]
    },
    {
      "cell_type": "code",
      "execution_count": 17,
      "metadata": {
        "id": "g5BofJWHC72D",
        "outputId": "4dc09da5-602e-402d-adf3-c4a9bf4bfde7",
        "colab": {
          "base_uri": "https://localhost:8080/",
          "height": 35
        }
      },
      "outputs": [
        {
          "output_type": "execute_result",
          "data": {
            "text/plain": [
              "'r'"
            ],
            "application/vnd.google.colaboratory.intrinsic+json": {
              "type": "string"
            }
          },
          "metadata": {},
          "execution_count": 17
        }
      ],
      "source": [
        "# Print the first element in the second nested tuples\n",
        "\n",
        "NestedT[2][1][0]"
      ]
    },
    {
      "cell_type": "code",
      "execution_count": 18,
      "metadata": {
        "id": "iukNPetkC72E",
        "outputId": "bc03f5ca-de49-4699-ba60-6ba44db603d6",
        "colab": {
          "base_uri": "https://localhost:8080/",
          "height": 35
        }
      },
      "outputs": [
        {
          "output_type": "execute_result",
          "data": {
            "text/plain": [
              "'o'"
            ],
            "application/vnd.google.colaboratory.intrinsic+json": {
              "type": "string"
            }
          },
          "metadata": {},
          "execution_count": 18
        }
      ],
      "source": [
        "# Print the second element in the second nested tuples\n",
        "\n",
        "NestedT[2][1][1]"
      ]
    },
    {
      "cell_type": "markdown",
      "metadata": {
        "id": "kai6UgbiC72E"
      },
      "source": [
        "We can use a tree to visualise the process. Each new index corresponds to a deeper level in the tree:\n"
      ]
    },
    {
      "cell_type": "markdown",
      "metadata": {
        "id": "WItz9_u3C72E"
      },
      "source": [
        "<img src=\"https://cf-courses-data.s3.us.cloud-object-storage.appdomain.cloud/IBMDeveloperSkillsNetwork-PY0101EN-SkillsNetwork/labs/Module%202/images/TuplesNestThree.gif\" width=\"750\" align=\"center\">\n"
      ]
    },
    {
      "cell_type": "markdown",
      "metadata": {
        "id": "_EWFsdFRC72E"
      },
      "source": [
        "Similarly, we can access elements nested deeper in the tree with a third index:\n"
      ]
    },
    {
      "cell_type": "code",
      "execution_count": 19,
      "metadata": {
        "id": "a4DSaqQ0C72E",
        "outputId": "28bd7ff3-bf0b-4bb2-cfbd-f3fbeddcb6d7",
        "colab": {
          "base_uri": "https://localhost:8080/"
        }
      },
      "outputs": [
        {
          "output_type": "execute_result",
          "data": {
            "text/plain": [
              "1"
            ]
          },
          "metadata": {},
          "execution_count": 19
        }
      ],
      "source": [
        "# Print the first element in the second nested tuples\n",
        "\n",
        "NestedT[4][1][0]"
      ]
    },
    {
      "cell_type": "code",
      "execution_count": 20,
      "metadata": {
        "id": "OAJR9hkEC72F",
        "outputId": "ba01f5c3-1128-4f09-e0b5-81bf757646f5",
        "colab": {
          "base_uri": "https://localhost:8080/"
        }
      },
      "outputs": [
        {
          "output_type": "execute_result",
          "data": {
            "text/plain": [
              "2"
            ]
          },
          "metadata": {},
          "execution_count": 20
        }
      ],
      "source": [
        "# Print the second element in the second nested tuples\n",
        "\n",
        "NestedT[4][1][1]"
      ]
    },
    {
      "cell_type": "markdown",
      "metadata": {
        "id": "S5nKvj0oC72F"
      },
      "source": [
        "The following figure shows the relationship of the tree and the element <code>NestedT\\[4]\\[1]\\[1]</code>:\n"
      ]
    },
    {
      "cell_type": "markdown",
      "metadata": {
        "id": "YE9rR5LCC72F"
      },
      "source": [
        "<img src=\"https://cf-courses-data.s3.us.cloud-object-storage.appdomain.cloud/IBMDeveloperSkillsNetwork-PY0101EN-SkillsNetwork/labs/Module%202/images/TuplesNestFour.gif\" width=\"750\" align=\"center\">\n"
      ]
    },
    {
      "cell_type": "markdown",
      "metadata": {
        "id": "ylVTzlk7C72F"
      },
      "source": [
        "<h2 id=\"quiz\">Quiz on Tuples</h2>\n"
      ]
    },
    {
      "cell_type": "markdown",
      "metadata": {
        "id": "dVIpw3Y6C72F"
      },
      "source": [
        "Consider the following tuple:\n"
      ]
    },
    {
      "cell_type": "code",
      "execution_count": 21,
      "metadata": {
        "id": "SxRlheIuC72G",
        "outputId": "156f842b-0a0f-42d2-d47e-9b8a03c5ed7a",
        "colab": {
          "base_uri": "https://localhost:8080/"
        }
      },
      "outputs": [
        {
          "output_type": "execute_result",
          "data": {
            "text/plain": [
              "('pop',\n",
              " 'rock',\n",
              " 'soul',\n",
              " 'hard rock',\n",
              " 'soft rock',\n",
              " 'R&B',\n",
              " 'progressive rock',\n",
              " 'disco')"
            ]
          },
          "metadata": {},
          "execution_count": 21
        }
      ],
      "source": [
        "# sample tuple\n",
        "\n",
        "genres_tuple = (\"pop\", \"rock\", \"soul\", \"hard rock\", \"soft rock\", \\\n",
        "                \"R&B\", \"progressive rock\", \"disco\") \n",
        "genres_tuple"
      ]
    },
    {
      "cell_type": "markdown",
      "metadata": {
        "id": "YnuNAe6BC72G"
      },
      "source": [
        "Find the length of the tuple, <code>genres_tuple</code>:\n"
      ]
    },
    {
      "cell_type": "code",
      "execution_count": 23,
      "metadata": {
        "id": "6eopKkbxC72G",
        "outputId": "646378f4-1241-4019-be7c-9fcb2f99ec97",
        "colab": {
          "base_uri": "https://localhost:8080/"
        }
      },
      "outputs": [
        {
          "output_type": "execute_result",
          "data": {
            "text/plain": [
              "8"
            ]
          },
          "metadata": {},
          "execution_count": 23
        }
      ],
      "source": [
        "# Write your code below and press Shift+Enter to execute\n",
        "len(genres_tuple)"
      ]
    },
    {
      "cell_type": "markdown",
      "metadata": {
        "id": "3s_i8hPuC72G"
      },
      "source": [
        "<img src=\"https://cf-courses-data.s3.us.cloud-object-storage.appdomain.cloud/IBMDeveloperSkillsNetwork-PY0101EN-SkillsNetwork/labs/Module%202/images/TuplesQuiz.png\" width=\"1100\" align=\"center\">\n"
      ]
    },
    {
      "cell_type": "markdown",
      "metadata": {
        "id": "YH3SPxTQC72H"
      },
      "source": [
        "<details><summary>Click here for the solution</summary>\n",
        "\n",
        "```python\n",
        "len(genres_tuple)\n",
        "```\n",
        "\n",
        "</details>\n"
      ]
    },
    {
      "cell_type": "markdown",
      "metadata": {
        "id": "SFCjjprpC72H"
      },
      "source": [
        "Access the element, with respect to index 3:\n"
      ]
    },
    {
      "cell_type": "code",
      "execution_count": 24,
      "metadata": {
        "id": "DP92wNxGC72H",
        "outputId": "d57c7490-0ec0-4392-8919-a5b0c93dbb8d",
        "colab": {
          "base_uri": "https://localhost:8080/",
          "height": 35
        }
      },
      "outputs": [
        {
          "output_type": "execute_result",
          "data": {
            "text/plain": [
              "'hard rock'"
            ],
            "application/vnd.google.colaboratory.intrinsic+json": {
              "type": "string"
            }
          },
          "metadata": {},
          "execution_count": 24
        }
      ],
      "source": [
        "# Write your code below and press Shift+Enter to execute\n",
        "genres_tuple[3]"
      ]
    },
    {
      "cell_type": "markdown",
      "metadata": {
        "id": "GkhNcp98C72I"
      },
      "source": [
        "<details><summary>Click here for the solution</summary>\n",
        "\n",
        "```python\n",
        "genres_tuple[3]\n",
        "\n",
        "```\n",
        "\n",
        "</details>\n"
      ]
    },
    {
      "cell_type": "markdown",
      "metadata": {
        "id": "liMmPF1HC72I"
      },
      "source": [
        "Use slicing to obtain indexes 3, 4 and 5:\n"
      ]
    },
    {
      "cell_type": "code",
      "execution_count": 25,
      "metadata": {
        "id": "EKa2TNv3C72I",
        "outputId": "f8cd4f42-cd52-41e5-97bf-bd45cfea934d",
        "colab": {
          "base_uri": "https://localhost:8080/"
        }
      },
      "outputs": [
        {
          "output_type": "execute_result",
          "data": {
            "text/plain": [
              "('hard rock', 'soft rock', 'R&B')"
            ]
          },
          "metadata": {},
          "execution_count": 25
        }
      ],
      "source": [
        "# Write your code below and press Shift+Enter to execute\n",
        "genres_tuple[3:6]"
      ]
    },
    {
      "cell_type": "markdown",
      "metadata": {
        "id": "Me6kSDJZC72J"
      },
      "source": [
        "<details><summary>Click here for the solution</summary>\n",
        "\n",
        "```python\n",
        "genres_tuple[3:6]\n",
        "\n",
        "```\n",
        "\n",
        "</details>\n"
      ]
    },
    {
      "cell_type": "markdown",
      "metadata": {
        "id": "aCxZaDoXC72J"
      },
      "source": [
        "Find the first two elements of the tuple <code>genres_tuple</code>:\n"
      ]
    },
    {
      "cell_type": "code",
      "execution_count": 26,
      "metadata": {
        "id": "JkCpktanC72J",
        "outputId": "c5fd7037-e61c-4613-bc1a-358025e100e8",
        "colab": {
          "base_uri": "https://localhost:8080/"
        }
      },
      "outputs": [
        {
          "output_type": "execute_result",
          "data": {
            "text/plain": [
              "('pop', 'rock')"
            ]
          },
          "metadata": {},
          "execution_count": 26
        }
      ],
      "source": [
        "# Write your code below and press Shift+Enter to execute\n",
        "genres_tuple[0:2]"
      ]
    },
    {
      "cell_type": "markdown",
      "metadata": {
        "id": "xVO9SX3bC72J"
      },
      "source": [
        "<details><summary>Click here for the solution</summary>\n",
        "\n",
        "```python\n",
        "genres_tuple[0:2]\n",
        "\n",
        "```\n",
        "\n",
        "</details>\n"
      ]
    },
    {
      "cell_type": "markdown",
      "metadata": {
        "id": "LujpWuDbC72K"
      },
      "source": [
        "Find the first index of <code>\"disco\"</code>:\n"
      ]
    },
    {
      "cell_type": "code",
      "execution_count": 27,
      "metadata": {
        "id": "rzs8B8OwC72K",
        "outputId": "29ff27e2-35bf-4f1b-909e-69e1207cc964",
        "colab": {
          "base_uri": "https://localhost:8080/"
        }
      },
      "outputs": [
        {
          "output_type": "execute_result",
          "data": {
            "text/plain": [
              "7"
            ]
          },
          "metadata": {},
          "execution_count": 27
        }
      ],
      "source": [
        "# Write your code below and press Shift+Enter to execute\n",
        "genres_tuple.index(\"disco\")"
      ]
    },
    {
      "cell_type": "markdown",
      "metadata": {
        "id": "XUKGkpd7C72K"
      },
      "source": [
        "<details><summary>Click here for the solution</summary>\n",
        "\n",
        "```python\n",
        "genres_tuple.index(\"disco\")\n",
        "\n",
        "```\n",
        "\n",
        "</details>\n"
      ]
    },
    {
      "cell_type": "markdown",
      "metadata": {
        "id": "w1nQnFbBC72L"
      },
      "source": [
        "Generate a sorted List from the Tuple <code>C_tuple=(-5, 1, -3)</code>:\n"
      ]
    },
    {
      "cell_type": "code",
      "execution_count": 28,
      "metadata": {
        "id": "x7AEkTsDC72L",
        "outputId": "b571173e-202a-4979-e55f-122ddcb3e997",
        "colab": {
          "base_uri": "https://localhost:8080/"
        }
      },
      "outputs": [
        {
          "output_type": "execute_result",
          "data": {
            "text/plain": [
              "[-5, -3, 1]"
            ]
          },
          "metadata": {},
          "execution_count": 28
        }
      ],
      "source": [
        "# Write your code below and press Shift+Enter to execute\n",
        "C_tuple = (-5, 1, -3)\n",
        "C_list = sorted(C_tuple)\n",
        "C_list"
      ]
    },
    {
      "cell_type": "markdown",
      "metadata": {
        "id": "nOmc7et4C72L"
      },
      "source": [
        "<details><summary>Click here for the solution</summary>\n",
        "\n",
        "```python\n",
        "C_tuple = (-5, 1, -3)\n",
        "C_list = sorted(C_tuple)\n",
        "C_list\n",
        "\n",
        "```\n",
        "\n",
        "</details>\n"
      ]
    },
    {
      "cell_type": "markdown",
      "metadata": {
        "id": "JAI7uDgVC72M"
      },
      "source": [
        "## Author\n",
        "\n",
        "<a href=\"https://www.linkedin.com/in/joseph-s-50398b136/?utm_medium=Exinfluencer&utm_source=Exinfluencer&utm_content=000026UJ&utm_term=10006555&utm_id=NA-SkillsNetwork-Channel-SkillsNetworkCoursesIBMDeveloperSkillsNetworkPY0101ENSkillsNetwork19487395-2022-01-01\" target=\"_blank\">Joseph Santarcangelo</a>\n",
        "\n",
        "## Other contributors\n",
        "\n",
        "<a href=\"https://www.linkedin.com/in/jiahui-mavis-zhou-a4537814a?utm_medium=Exinfluencer&utm_source=Exinfluencer&utm_content=000026UJ&utm_term=10006555&utm_id=NA-SkillsNetwork-Channel-SkillsNetworkCoursesIBMDeveloperSkillsNetworkPY0101ENSkillsNetwork19487395-2022-01-01\">Mavis Zhou</a>\n",
        "\n",
        "## Change Log\n",
        "\n",
        "| Date (YYYY-MM-DD) | Version | Changed By | Change Description                 |\n",
        "| ----------------- | ------- | ---------- | ---------------------------------- |\n",
        "| 2022-01-10        | 2.1     | Malika     | Removed the readme for GitShare    |\n",
        "| 2020-08-26        | 2.0     | Lavanya    | Moved lab to course repo in GitLab |\n",
        "|                   |         |            |                                    |\n",
        "|                   |         |            |                                    |\n",
        "\n",
        "## <h3 align=\"center\"> © IBM Corporation 2020. All rights reserved. <h3/>\n"
      ]
    }
  ],
  "metadata": {
    "kernelspec": {
      "display_name": "Python 3",
      "language": "python",
      "name": "python3"
    },
    "language_info": {
      "codemirror_mode": {
        "name": "ipython",
        "version": 3
      },
      "file_extension": ".py",
      "mimetype": "text/x-python",
      "name": "python",
      "nbconvert_exporter": "python",
      "pygments_lexer": "ipython3",
      "version": "3.7.6"
    },
    "colab": {
      "name": "PY0101EN-2-1-Tuples.ipynb",
      "provenance": [],
      "include_colab_link": true
    }
  },
  "nbformat": 4,
  "nbformat_minor": 0
}