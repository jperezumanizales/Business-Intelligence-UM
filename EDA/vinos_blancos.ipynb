{
  "nbformat": 4,
  "nbformat_minor": 0,
  "metadata": {
    "colab": {
      "provenance": [],
      "collapsed_sections": []
    },
    "kernelspec": {
      "name": "python3",
      "display_name": "Python 3"
    },
    "language_info": {
      "name": "python"
    }
  },
  "cells": [
    {
      "cell_type": "code",
      "execution_count": null,
      "metadata": {
        "id": "0odsGjJVb3QB"
      },
      "outputs": [],
      "source": [
        "import pandas as pd\n",
        "%matplotlib inline\n",
        "import matplotlib as plt\n",
        "from matplotlib import pyplot\n",
        "import seaborn as sns\n",
        "import numpy as np  \n",
        "import seaborn as sns  \n",
        "import matplotlib.pyplot as plt  \n",
        "from sklearn.preprocessing import MinMaxScaler, RobustScaler, StandardScaler \n",
        "import plotly.express as px\n",
        "import plotly.graph_objects as go\n",
        "import plotly.io as pio\n",
        "import scipy.stats as st\n",
        "from termcolor import colored\n",
        "import pandas as pd"
      ]
    },
    {
      "cell_type": "code",
      "source": [
        "from pydrive.auth import GoogleAuth\n",
        "from pydrive.drive import GoogleDrive\n",
        "from google.colab import auth\n",
        "from oauth2client.client import GoogleCredentials"
      ],
      "metadata": {
        "id": "593RujEgcPW2"
      },
      "execution_count": null,
      "outputs": []
    },
    {
      "cell_type": "code",
      "source": [
        "auth.authenticate_user()\n",
        "gauth = GoogleAuth()\n",
        "gauth.credentials = GoogleCredentials.get_application_default()\n",
        "drive = GoogleDrive(gauth)"
      ],
      "metadata": {
        "id": "FCdnzpsncQ49"
      },
      "execution_count": null,
      "outputs": []
    },
    {
      "cell_type": "code",
      "source": [
        "link = 'https://drive.google.com/file/d/1nAefhje8cALzCfy-LF-zxzgfb1BLhJh_/view?usp=sharing'\n",
        "id = link.split(\"/\")[-2]\n",
        " \n",
        "downloaded = drive.CreateFile({'id':id})\n",
        "downloaded.GetContentFile('winequality-white.csv') \n",
        "df = pd.read_csv('winequality-white.csv', sep=';')"
      ],
      "metadata": {
        "id": "A42ibY09cbJl"
      },
      "execution_count": null,
      "outputs": []
    },
    {
      "cell_type": "code",
      "source": [
        "df"
      ],
      "metadata": {
        "colab": {
          "base_uri": "https://localhost:8080/",
          "height": 485
        },
        "id": "hVSLy08wcju8",
        "outputId": "4489042b-4a73-419d-f526-5e232c56edfe"
      },
      "execution_count": null,
      "outputs": [
        {
          "output_type": "execute_result",
          "data": {
            "text/plain": [
              "      fixed acidity  volatile acidity  citric acid  residual sugar  chlorides  \\\n",
              "0               7.0              0.27         0.36            20.7      0.045   \n",
              "1               6.3              0.30         0.34             1.6      0.049   \n",
              "2               8.1              0.28         0.40             6.9      0.050   \n",
              "3               7.2              0.23         0.32             8.5      0.058   \n",
              "4               7.2              0.23         0.32             8.5      0.058   \n",
              "...             ...               ...          ...             ...        ...   \n",
              "4893            6.2              0.21         0.29             1.6      0.039   \n",
              "4894            6.6              0.32         0.36             8.0      0.047   \n",
              "4895            6.5              0.24         0.19             1.2      0.041   \n",
              "4896            5.5              0.29         0.30             1.1      0.022   \n",
              "4897            6.0              0.21         0.38             0.8      0.020   \n",
              "\n",
              "      free sulfur dioxide  total sulfur dioxide  density    pH  sulphates  \\\n",
              "0                    45.0                 170.0  1.00100  3.00       0.45   \n",
              "1                    14.0                 132.0  0.99400  3.30       0.49   \n",
              "2                    30.0                  97.0  0.99510  3.26       0.44   \n",
              "3                    47.0                 186.0  0.99560  3.19       0.40   \n",
              "4                    47.0                 186.0  0.99560  3.19       0.40   \n",
              "...                   ...                   ...      ...   ...        ...   \n",
              "4893                 24.0                  92.0  0.99114  3.27       0.50   \n",
              "4894                 57.0                 168.0  0.99490  3.15       0.46   \n",
              "4895                 30.0                 111.0  0.99254  2.99       0.46   \n",
              "4896                 20.0                 110.0  0.98869  3.34       0.38   \n",
              "4897                 22.0                  98.0  0.98941  3.26       0.32   \n",
              "\n",
              "      alcohol  quality  \n",
              "0         8.8        6  \n",
              "1         9.5        6  \n",
              "2        10.1        6  \n",
              "3         9.9        6  \n",
              "4         9.9        6  \n",
              "...       ...      ...  \n",
              "4893     11.2        6  \n",
              "4894      9.6        5  \n",
              "4895      9.4        6  \n",
              "4896     12.8        7  \n",
              "4897     11.8        6  \n",
              "\n",
              "[4898 rows x 12 columns]"
            ],
            "text/html": [
              "\n",
              "  <div id=\"df-ecc4c801-30b9-4f56-a971-9e60e04611e3\">\n",
              "    <div class=\"colab-df-container\">\n",
              "      <div>\n",
              "<style scoped>\n",
              "    .dataframe tbody tr th:only-of-type {\n",
              "        vertical-align: middle;\n",
              "    }\n",
              "\n",
              "    .dataframe tbody tr th {\n",
              "        vertical-align: top;\n",
              "    }\n",
              "\n",
              "    .dataframe thead th {\n",
              "        text-align: right;\n",
              "    }\n",
              "</style>\n",
              "<table border=\"1\" class=\"dataframe\">\n",
              "  <thead>\n",
              "    <tr style=\"text-align: right;\">\n",
              "      <th></th>\n",
              "      <th>fixed acidity</th>\n",
              "      <th>volatile acidity</th>\n",
              "      <th>citric acid</th>\n",
              "      <th>residual sugar</th>\n",
              "      <th>chlorides</th>\n",
              "      <th>free sulfur dioxide</th>\n",
              "      <th>total sulfur dioxide</th>\n",
              "      <th>density</th>\n",
              "      <th>pH</th>\n",
              "      <th>sulphates</th>\n",
              "      <th>alcohol</th>\n",
              "      <th>quality</th>\n",
              "    </tr>\n",
              "  </thead>\n",
              "  <tbody>\n",
              "    <tr>\n",
              "      <th>0</th>\n",
              "      <td>7.0</td>\n",
              "      <td>0.27</td>\n",
              "      <td>0.36</td>\n",
              "      <td>20.7</td>\n",
              "      <td>0.045</td>\n",
              "      <td>45.0</td>\n",
              "      <td>170.0</td>\n",
              "      <td>1.00100</td>\n",
              "      <td>3.00</td>\n",
              "      <td>0.45</td>\n",
              "      <td>8.8</td>\n",
              "      <td>6</td>\n",
              "    </tr>\n",
              "    <tr>\n",
              "      <th>1</th>\n",
              "      <td>6.3</td>\n",
              "      <td>0.30</td>\n",
              "      <td>0.34</td>\n",
              "      <td>1.6</td>\n",
              "      <td>0.049</td>\n",
              "      <td>14.0</td>\n",
              "      <td>132.0</td>\n",
              "      <td>0.99400</td>\n",
              "      <td>3.30</td>\n",
              "      <td>0.49</td>\n",
              "      <td>9.5</td>\n",
              "      <td>6</td>\n",
              "    </tr>\n",
              "    <tr>\n",
              "      <th>2</th>\n",
              "      <td>8.1</td>\n",
              "      <td>0.28</td>\n",
              "      <td>0.40</td>\n",
              "      <td>6.9</td>\n",
              "      <td>0.050</td>\n",
              "      <td>30.0</td>\n",
              "      <td>97.0</td>\n",
              "      <td>0.99510</td>\n",
              "      <td>3.26</td>\n",
              "      <td>0.44</td>\n",
              "      <td>10.1</td>\n",
              "      <td>6</td>\n",
              "    </tr>\n",
              "    <tr>\n",
              "      <th>3</th>\n",
              "      <td>7.2</td>\n",
              "      <td>0.23</td>\n",
              "      <td>0.32</td>\n",
              "      <td>8.5</td>\n",
              "      <td>0.058</td>\n",
              "      <td>47.0</td>\n",
              "      <td>186.0</td>\n",
              "      <td>0.99560</td>\n",
              "      <td>3.19</td>\n",
              "      <td>0.40</td>\n",
              "      <td>9.9</td>\n",
              "      <td>6</td>\n",
              "    </tr>\n",
              "    <tr>\n",
              "      <th>4</th>\n",
              "      <td>7.2</td>\n",
              "      <td>0.23</td>\n",
              "      <td>0.32</td>\n",
              "      <td>8.5</td>\n",
              "      <td>0.058</td>\n",
              "      <td>47.0</td>\n",
              "      <td>186.0</td>\n",
              "      <td>0.99560</td>\n",
              "      <td>3.19</td>\n",
              "      <td>0.40</td>\n",
              "      <td>9.9</td>\n",
              "      <td>6</td>\n",
              "    </tr>\n",
              "    <tr>\n",
              "      <th>...</th>\n",
              "      <td>...</td>\n",
              "      <td>...</td>\n",
              "      <td>...</td>\n",
              "      <td>...</td>\n",
              "      <td>...</td>\n",
              "      <td>...</td>\n",
              "      <td>...</td>\n",
              "      <td>...</td>\n",
              "      <td>...</td>\n",
              "      <td>...</td>\n",
              "      <td>...</td>\n",
              "      <td>...</td>\n",
              "    </tr>\n",
              "    <tr>\n",
              "      <th>4893</th>\n",
              "      <td>6.2</td>\n",
              "      <td>0.21</td>\n",
              "      <td>0.29</td>\n",
              "      <td>1.6</td>\n",
              "      <td>0.039</td>\n",
              "      <td>24.0</td>\n",
              "      <td>92.0</td>\n",
              "      <td>0.99114</td>\n",
              "      <td>3.27</td>\n",
              "      <td>0.50</td>\n",
              "      <td>11.2</td>\n",
              "      <td>6</td>\n",
              "    </tr>\n",
              "    <tr>\n",
              "      <th>4894</th>\n",
              "      <td>6.6</td>\n",
              "      <td>0.32</td>\n",
              "      <td>0.36</td>\n",
              "      <td>8.0</td>\n",
              "      <td>0.047</td>\n",
              "      <td>57.0</td>\n",
              "      <td>168.0</td>\n",
              "      <td>0.99490</td>\n",
              "      <td>3.15</td>\n",
              "      <td>0.46</td>\n",
              "      <td>9.6</td>\n",
              "      <td>5</td>\n",
              "    </tr>\n",
              "    <tr>\n",
              "      <th>4895</th>\n",
              "      <td>6.5</td>\n",
              "      <td>0.24</td>\n",
              "      <td>0.19</td>\n",
              "      <td>1.2</td>\n",
              "      <td>0.041</td>\n",
              "      <td>30.0</td>\n",
              "      <td>111.0</td>\n",
              "      <td>0.99254</td>\n",
              "      <td>2.99</td>\n",
              "      <td>0.46</td>\n",
              "      <td>9.4</td>\n",
              "      <td>6</td>\n",
              "    </tr>\n",
              "    <tr>\n",
              "      <th>4896</th>\n",
              "      <td>5.5</td>\n",
              "      <td>0.29</td>\n",
              "      <td>0.30</td>\n",
              "      <td>1.1</td>\n",
              "      <td>0.022</td>\n",
              "      <td>20.0</td>\n",
              "      <td>110.0</td>\n",
              "      <td>0.98869</td>\n",
              "      <td>3.34</td>\n",
              "      <td>0.38</td>\n",
              "      <td>12.8</td>\n",
              "      <td>7</td>\n",
              "    </tr>\n",
              "    <tr>\n",
              "      <th>4897</th>\n",
              "      <td>6.0</td>\n",
              "      <td>0.21</td>\n",
              "      <td>0.38</td>\n",
              "      <td>0.8</td>\n",
              "      <td>0.020</td>\n",
              "      <td>22.0</td>\n",
              "      <td>98.0</td>\n",
              "      <td>0.98941</td>\n",
              "      <td>3.26</td>\n",
              "      <td>0.32</td>\n",
              "      <td>11.8</td>\n",
              "      <td>6</td>\n",
              "    </tr>\n",
              "  </tbody>\n",
              "</table>\n",
              "<p>4898 rows × 12 columns</p>\n",
              "</div>\n",
              "      <button class=\"colab-df-convert\" onclick=\"convertToInteractive('df-ecc4c801-30b9-4f56-a971-9e60e04611e3')\"\n",
              "              title=\"Convert this dataframe to an interactive table.\"\n",
              "              style=\"display:none;\">\n",
              "        \n",
              "  <svg xmlns=\"http://www.w3.org/2000/svg\" height=\"24px\"viewBox=\"0 0 24 24\"\n",
              "       width=\"24px\">\n",
              "    <path d=\"M0 0h24v24H0V0z\" fill=\"none\"/>\n",
              "    <path d=\"M18.56 5.44l.94 2.06.94-2.06 2.06-.94-2.06-.94-.94-2.06-.94 2.06-2.06.94zm-11 1L8.5 8.5l.94-2.06 2.06-.94-2.06-.94L8.5 2.5l-.94 2.06-2.06.94zm10 10l.94 2.06.94-2.06 2.06-.94-2.06-.94-.94-2.06-.94 2.06-2.06.94z\"/><path d=\"M17.41 7.96l-1.37-1.37c-.4-.4-.92-.59-1.43-.59-.52 0-1.04.2-1.43.59L10.3 9.45l-7.72 7.72c-.78.78-.78 2.05 0 2.83L4 21.41c.39.39.9.59 1.41.59.51 0 1.02-.2 1.41-.59l7.78-7.78 2.81-2.81c.8-.78.8-2.07 0-2.86zM5.41 20L4 18.59l7.72-7.72 1.47 1.35L5.41 20z\"/>\n",
              "  </svg>\n",
              "      </button>\n",
              "      \n",
              "  <style>\n",
              "    .colab-df-container {\n",
              "      display:flex;\n",
              "      flex-wrap:wrap;\n",
              "      gap: 12px;\n",
              "    }\n",
              "\n",
              "    .colab-df-convert {\n",
              "      background-color: #E8F0FE;\n",
              "      border: none;\n",
              "      border-radius: 50%;\n",
              "      cursor: pointer;\n",
              "      display: none;\n",
              "      fill: #1967D2;\n",
              "      height: 32px;\n",
              "      padding: 0 0 0 0;\n",
              "      width: 32px;\n",
              "    }\n",
              "\n",
              "    .colab-df-convert:hover {\n",
              "      background-color: #E2EBFA;\n",
              "      box-shadow: 0px 1px 2px rgba(60, 64, 67, 0.3), 0px 1px 3px 1px rgba(60, 64, 67, 0.15);\n",
              "      fill: #174EA6;\n",
              "    }\n",
              "\n",
              "    [theme=dark] .colab-df-convert {\n",
              "      background-color: #3B4455;\n",
              "      fill: #D2E3FC;\n",
              "    }\n",
              "\n",
              "    [theme=dark] .colab-df-convert:hover {\n",
              "      background-color: #434B5C;\n",
              "      box-shadow: 0px 1px 3px 1px rgba(0, 0, 0, 0.15);\n",
              "      filter: drop-shadow(0px 1px 2px rgba(0, 0, 0, 0.3));\n",
              "      fill: #FFFFFF;\n",
              "    }\n",
              "  </style>\n",
              "\n",
              "      <script>\n",
              "        const buttonEl =\n",
              "          document.querySelector('#df-ecc4c801-30b9-4f56-a971-9e60e04611e3 button.colab-df-convert');\n",
              "        buttonEl.style.display =\n",
              "          google.colab.kernel.accessAllowed ? 'block' : 'none';\n",
              "\n",
              "        async function convertToInteractive(key) {\n",
              "          const element = document.querySelector('#df-ecc4c801-30b9-4f56-a971-9e60e04611e3');\n",
              "          const dataTable =\n",
              "            await google.colab.kernel.invokeFunction('convertToInteractive',\n",
              "                                                     [key], {});\n",
              "          if (!dataTable) return;\n",
              "\n",
              "          const docLinkHtml = 'Like what you see? Visit the ' +\n",
              "            '<a target=\"_blank\" href=https://colab.research.google.com/notebooks/data_table.ipynb>data table notebook</a>'\n",
              "            + ' to learn more about interactive tables.';\n",
              "          element.innerHTML = '';\n",
              "          dataTable['output_type'] = 'display_data';\n",
              "          await google.colab.output.renderOutput(dataTable, element);\n",
              "          const docLink = document.createElement('div');\n",
              "          docLink.innerHTML = docLinkHtml;\n",
              "          element.appendChild(docLink);\n",
              "        }\n",
              "      </script>\n",
              "    </div>\n",
              "  </div>\n",
              "  "
            ]
          },
          "metadata": {},
          "execution_count": 5
        }
      ]
    },
    {
      "cell_type": "code",
      "source": [
        "df.info()"
      ],
      "metadata": {
        "colab": {
          "base_uri": "https://localhost:8080/"
        },
        "id": "ToUNBsN-coVd",
        "outputId": "4b5373ff-d3cb-46d8-d921-20ef77cbd74a"
      },
      "execution_count": null,
      "outputs": [
        {
          "output_type": "stream",
          "name": "stdout",
          "text": [
            "<class 'pandas.core.frame.DataFrame'>\n",
            "RangeIndex: 4898 entries, 0 to 4897\n",
            "Data columns (total 12 columns):\n",
            " #   Column                Non-Null Count  Dtype  \n",
            "---  ------                --------------  -----  \n",
            " 0   fixed acidity         4898 non-null   float64\n",
            " 1   volatile acidity      4898 non-null   float64\n",
            " 2   citric acid           4898 non-null   float64\n",
            " 3   residual sugar        4898 non-null   float64\n",
            " 4   chlorides             4898 non-null   float64\n",
            " 5   free sulfur dioxide   4898 non-null   float64\n",
            " 6   total sulfur dioxide  4898 non-null   float64\n",
            " 7   density               4898 non-null   float64\n",
            " 8   pH                    4898 non-null   float64\n",
            " 9   sulphates             4898 non-null   float64\n",
            " 10  alcohol               4898 non-null   float64\n",
            " 11  quality               4898 non-null   int64  \n",
            "dtypes: float64(11), int64(1)\n",
            "memory usage: 459.3 KB\n"
          ]
        }
      ]
    },
    {
      "cell_type": "code",
      "source": [
        "df.describe().T.style.background_gradient(cmap = \"magma\")"
      ],
      "metadata": {
        "colab": {
          "base_uri": "https://localhost:8080/",
          "height": 426
        },
        "id": "4wfi8uoQcruT",
        "outputId": "aeb7ee7e-8acc-4357-f429-25510be1d4bd"
      },
      "execution_count": null,
      "outputs": [
        {
          "output_type": "execute_result",
          "data": {
            "text/plain": [
              "<pandas.io.formats.style.Styler at 0x7fa32abd5d90>"
            ],
            "text/html": [
              "<style type=\"text/css\">\n",
              "#T_2ce3f_row0_col0, #T_2ce3f_row1_col0, #T_2ce3f_row1_col1, #T_2ce3f_row1_col2, #T_2ce3f_row1_col4, #T_2ce3f_row1_col5, #T_2ce3f_row1_col6, #T_2ce3f_row1_col7, #T_2ce3f_row2_col0, #T_2ce3f_row2_col1, #T_2ce3f_row2_col2, #T_2ce3f_row2_col3, #T_2ce3f_row2_col4, #T_2ce3f_row2_col5, #T_2ce3f_row2_col6, #T_2ce3f_row2_col7, #T_2ce3f_row3_col0, #T_2ce3f_row4_col0, #T_2ce3f_row4_col1, #T_2ce3f_row4_col2, #T_2ce3f_row4_col3, #T_2ce3f_row4_col4, #T_2ce3f_row4_col5, #T_2ce3f_row4_col6, #T_2ce3f_row4_col7, #T_2ce3f_row5_col0, #T_2ce3f_row6_col0, #T_2ce3f_row7_col0, #T_2ce3f_row7_col2, #T_2ce3f_row7_col7, #T_2ce3f_row8_col0, #T_2ce3f_row8_col2, #T_2ce3f_row9_col0, #T_2ce3f_row9_col1, #T_2ce3f_row9_col2, #T_2ce3f_row9_col4, #T_2ce3f_row9_col5, #T_2ce3f_row9_col6, #T_2ce3f_row9_col7, #T_2ce3f_row10_col0, #T_2ce3f_row11_col0 {\n",
              "  background-color: #000004;\n",
              "  color: #f1f1f1;\n",
              "}\n",
              "#T_2ce3f_row0_col1, #T_2ce3f_row0_col5 {\n",
              "  background-color: #06051a;\n",
              "  color: #f1f1f1;\n",
              "}\n",
              "#T_2ce3f_row0_col2, #T_2ce3f_row8_col1, #T_2ce3f_row8_col5, #T_2ce3f_row11_col2, #T_2ce3f_row11_col7 {\n",
              "  background-color: #02020b;\n",
              "  color: #f1f1f1;\n",
              "}\n",
              "#T_2ce3f_row0_col3 {\n",
              "  background-color: #962c80;\n",
              "  color: #f1f1f1;\n",
              "}\n",
              "#T_2ce3f_row0_col4 {\n",
              "  background-color: #08071e;\n",
              "  color: #f1f1f1;\n",
              "}\n",
              "#T_2ce3f_row0_col6, #T_2ce3f_row3_col1, #T_2ce3f_row11_col4, #T_2ce3f_row11_col5 {\n",
              "  background-color: #060518;\n",
              "  color: #f1f1f1;\n",
              "}\n",
              "#T_2ce3f_row0_col7, #T_2ce3f_row10_col7 {\n",
              "  background-color: #030312;\n",
              "  color: #f1f1f1;\n",
              "}\n",
              "#T_2ce3f_row1_col3, #T_2ce3f_row7_col4, #T_2ce3f_row8_col7 {\n",
              "  background-color: #010106;\n",
              "  color: #f1f1f1;\n",
              "}\n",
              "#T_2ce3f_row3_col2 {\n",
              "  background-color: #1a1042;\n",
              "  color: #f1f1f1;\n",
              "}\n",
              "#T_2ce3f_row3_col3, #T_2ce3f_row10_col6 {\n",
              "  background-color: #0b0924;\n",
              "  color: #f1f1f1;\n",
              "}\n",
              "#T_2ce3f_row3_col4 {\n",
              "  background-color: #010108;\n",
              "  color: #f1f1f1;\n",
              "}\n",
              "#T_2ce3f_row3_col5, #T_2ce3f_row11_col6 {\n",
              "  background-color: #040414;\n",
              "  color: #f1f1f1;\n",
              "}\n",
              "#T_2ce3f_row3_col6 {\n",
              "  background-color: #090720;\n",
              "  color: #f1f1f1;\n",
              "}\n",
              "#T_2ce3f_row3_col7 {\n",
              "  background-color: #251255;\n",
              "  color: #f1f1f1;\n",
              "}\n",
              "#T_2ce3f_row5_col1 {\n",
              "  background-color: #52137c;\n",
              "  color: #f1f1f1;\n",
              "}\n",
              "#T_2ce3f_row5_col2 {\n",
              "  background-color: #8c2981;\n",
              "  color: #f1f1f1;\n",
              "}\n",
              "#T_2ce3f_row5_col3 {\n",
              "  background-color: #440f76;\n",
              "  color: #f1f1f1;\n",
              "}\n",
              "#T_2ce3f_row5_col4 {\n",
              "  background-color: #400f74;\n",
              "  color: #f1f1f1;\n",
              "}\n",
              "#T_2ce3f_row5_col5 {\n",
              "  background-color: #51127c;\n",
              "  color: #f1f1f1;\n",
              "}\n",
              "#T_2ce3f_row5_col6 {\n",
              "  background-color: #5a167e;\n",
              "  color: #f1f1f1;\n",
              "}\n",
              "#T_2ce3f_row5_col7 {\n",
              "  background-color: #ef5d5e;\n",
              "  color: #f1f1f1;\n",
              "}\n",
              "#T_2ce3f_row6_col1, #T_2ce3f_row6_col2, #T_2ce3f_row6_col3, #T_2ce3f_row6_col4, #T_2ce3f_row6_col5, #T_2ce3f_row6_col6, #T_2ce3f_row6_col7 {\n",
              "  background-color: #fcfdbf;\n",
              "  color: #000000;\n",
              "}\n",
              "#T_2ce3f_row7_col1, #T_2ce3f_row7_col5, #T_2ce3f_row7_col6 {\n",
              "  background-color: #010005;\n",
              "  color: #f1f1f1;\n",
              "}\n",
              "#T_2ce3f_row7_col3 {\n",
              "  background-color: #180f3d;\n",
              "  color: #f1f1f1;\n",
              "}\n",
              "#T_2ce3f_row8_col3 {\n",
              "  background-color: #651a80;\n",
              "  color: #f1f1f1;\n",
              "}\n",
              "#T_2ce3f_row8_col4, #T_2ce3f_row10_col2 {\n",
              "  background-color: #03030f;\n",
              "  color: #f1f1f1;\n",
              "}\n",
              "#T_2ce3f_row8_col6 {\n",
              "  background-color: #020109;\n",
              "  color: #f1f1f1;\n",
              "}\n",
              "#T_2ce3f_row9_col3 {\n",
              "  background-color: #02020d;\n",
              "  color: #f1f1f1;\n",
              "}\n",
              "#T_2ce3f_row10_col1, #T_2ce3f_row10_col5 {\n",
              "  background-color: #0d0a29;\n",
              "  color: #f1f1f1;\n",
              "}\n",
              "#T_2ce3f_row10_col3 {\n",
              "  background-color: #feca8d;\n",
              "  color: #000000;\n",
              "}\n",
              "#T_2ce3f_row10_col4 {\n",
              "  background-color: #110c2f;\n",
              "  color: #f1f1f1;\n",
              "}\n",
              "#T_2ce3f_row11_col1 {\n",
              "  background-color: #050416;\n",
              "  color: #f1f1f1;\n",
              "}\n",
              "#T_2ce3f_row11_col3 {\n",
              "  background-color: #721f81;\n",
              "  color: #f1f1f1;\n",
              "}\n",
              "</style>\n",
              "<table id=\"T_2ce3f_\" class=\"dataframe\">\n",
              "  <thead>\n",
              "    <tr>\n",
              "      <th class=\"blank level0\" >&nbsp;</th>\n",
              "      <th class=\"col_heading level0 col0\" >count</th>\n",
              "      <th class=\"col_heading level0 col1\" >mean</th>\n",
              "      <th class=\"col_heading level0 col2\" >std</th>\n",
              "      <th class=\"col_heading level0 col3\" >min</th>\n",
              "      <th class=\"col_heading level0 col4\" >25%</th>\n",
              "      <th class=\"col_heading level0 col5\" >50%</th>\n",
              "      <th class=\"col_heading level0 col6\" >75%</th>\n",
              "      <th class=\"col_heading level0 col7\" >max</th>\n",
              "    </tr>\n",
              "  </thead>\n",
              "  <tbody>\n",
              "    <tr>\n",
              "      <th id=\"T_2ce3f_level0_row0\" class=\"row_heading level0 row0\" >fixed acidity</th>\n",
              "      <td id=\"T_2ce3f_row0_col0\" class=\"data row0 col0\" >4898.000000</td>\n",
              "      <td id=\"T_2ce3f_row0_col1\" class=\"data row0 col1\" >6.854788</td>\n",
              "      <td id=\"T_2ce3f_row0_col2\" class=\"data row0 col2\" >0.843868</td>\n",
              "      <td id=\"T_2ce3f_row0_col3\" class=\"data row0 col3\" >3.800000</td>\n",
              "      <td id=\"T_2ce3f_row0_col4\" class=\"data row0 col4\" >6.300000</td>\n",
              "      <td id=\"T_2ce3f_row0_col5\" class=\"data row0 col5\" >6.800000</td>\n",
              "      <td id=\"T_2ce3f_row0_col6\" class=\"data row0 col6\" >7.300000</td>\n",
              "      <td id=\"T_2ce3f_row0_col7\" class=\"data row0 col7\" >14.200000</td>\n",
              "    </tr>\n",
              "    <tr>\n",
              "      <th id=\"T_2ce3f_level0_row1\" class=\"row_heading level0 row1\" >volatile acidity</th>\n",
              "      <td id=\"T_2ce3f_row1_col0\" class=\"data row1 col0\" >4898.000000</td>\n",
              "      <td id=\"T_2ce3f_row1_col1\" class=\"data row1 col1\" >0.278241</td>\n",
              "      <td id=\"T_2ce3f_row1_col2\" class=\"data row1 col2\" >0.100795</td>\n",
              "      <td id=\"T_2ce3f_row1_col3\" class=\"data row1 col3\" >0.080000</td>\n",
              "      <td id=\"T_2ce3f_row1_col4\" class=\"data row1 col4\" >0.210000</td>\n",
              "      <td id=\"T_2ce3f_row1_col5\" class=\"data row1 col5\" >0.260000</td>\n",
              "      <td id=\"T_2ce3f_row1_col6\" class=\"data row1 col6\" >0.320000</td>\n",
              "      <td id=\"T_2ce3f_row1_col7\" class=\"data row1 col7\" >1.100000</td>\n",
              "    </tr>\n",
              "    <tr>\n",
              "      <th id=\"T_2ce3f_level0_row2\" class=\"row_heading level0 row2\" >citric acid</th>\n",
              "      <td id=\"T_2ce3f_row2_col0\" class=\"data row2 col0\" >4898.000000</td>\n",
              "      <td id=\"T_2ce3f_row2_col1\" class=\"data row2 col1\" >0.334192</td>\n",
              "      <td id=\"T_2ce3f_row2_col2\" class=\"data row2 col2\" >0.121020</td>\n",
              "      <td id=\"T_2ce3f_row2_col3\" class=\"data row2 col3\" >0.000000</td>\n",
              "      <td id=\"T_2ce3f_row2_col4\" class=\"data row2 col4\" >0.270000</td>\n",
              "      <td id=\"T_2ce3f_row2_col5\" class=\"data row2 col5\" >0.320000</td>\n",
              "      <td id=\"T_2ce3f_row2_col6\" class=\"data row2 col6\" >0.390000</td>\n",
              "      <td id=\"T_2ce3f_row2_col7\" class=\"data row2 col7\" >1.660000</td>\n",
              "    </tr>\n",
              "    <tr>\n",
              "      <th id=\"T_2ce3f_level0_row3\" class=\"row_heading level0 row3\" >residual sugar</th>\n",
              "      <td id=\"T_2ce3f_row3_col0\" class=\"data row3 col0\" >4898.000000</td>\n",
              "      <td id=\"T_2ce3f_row3_col1\" class=\"data row3 col1\" >6.391415</td>\n",
              "      <td id=\"T_2ce3f_row3_col2\" class=\"data row3 col2\" >5.072058</td>\n",
              "      <td id=\"T_2ce3f_row3_col3\" class=\"data row3 col3\" >0.600000</td>\n",
              "      <td id=\"T_2ce3f_row3_col4\" class=\"data row3 col4\" >1.700000</td>\n",
              "      <td id=\"T_2ce3f_row3_col5\" class=\"data row3 col5\" >5.200000</td>\n",
              "      <td id=\"T_2ce3f_row3_col6\" class=\"data row3 col6\" >9.900000</td>\n",
              "      <td id=\"T_2ce3f_row3_col7\" class=\"data row3 col7\" >65.800000</td>\n",
              "    </tr>\n",
              "    <tr>\n",
              "      <th id=\"T_2ce3f_level0_row4\" class=\"row_heading level0 row4\" >chlorides</th>\n",
              "      <td id=\"T_2ce3f_row4_col0\" class=\"data row4 col0\" >4898.000000</td>\n",
              "      <td id=\"T_2ce3f_row4_col1\" class=\"data row4 col1\" >0.045772</td>\n",
              "      <td id=\"T_2ce3f_row4_col2\" class=\"data row4 col2\" >0.021848</td>\n",
              "      <td id=\"T_2ce3f_row4_col3\" class=\"data row4 col3\" >0.009000</td>\n",
              "      <td id=\"T_2ce3f_row4_col4\" class=\"data row4 col4\" >0.036000</td>\n",
              "      <td id=\"T_2ce3f_row4_col5\" class=\"data row4 col5\" >0.043000</td>\n",
              "      <td id=\"T_2ce3f_row4_col6\" class=\"data row4 col6\" >0.050000</td>\n",
              "      <td id=\"T_2ce3f_row4_col7\" class=\"data row4 col7\" >0.346000</td>\n",
              "    </tr>\n",
              "    <tr>\n",
              "      <th id=\"T_2ce3f_level0_row5\" class=\"row_heading level0 row5\" >free sulfur dioxide</th>\n",
              "      <td id=\"T_2ce3f_row5_col0\" class=\"data row5 col0\" >4898.000000</td>\n",
              "      <td id=\"T_2ce3f_row5_col1\" class=\"data row5 col1\" >35.308085</td>\n",
              "      <td id=\"T_2ce3f_row5_col2\" class=\"data row5 col2\" >17.007137</td>\n",
              "      <td id=\"T_2ce3f_row5_col3\" class=\"data row5 col3\" >2.000000</td>\n",
              "      <td id=\"T_2ce3f_row5_col4\" class=\"data row5 col4\" >23.000000</td>\n",
              "      <td id=\"T_2ce3f_row5_col5\" class=\"data row5 col5\" >34.000000</td>\n",
              "      <td id=\"T_2ce3f_row5_col6\" class=\"data row5 col6\" >46.000000</td>\n",
              "      <td id=\"T_2ce3f_row5_col7\" class=\"data row5 col7\" >289.000000</td>\n",
              "    </tr>\n",
              "    <tr>\n",
              "      <th id=\"T_2ce3f_level0_row6\" class=\"row_heading level0 row6\" >total sulfur dioxide</th>\n",
              "      <td id=\"T_2ce3f_row6_col0\" class=\"data row6 col0\" >4898.000000</td>\n",
              "      <td id=\"T_2ce3f_row6_col1\" class=\"data row6 col1\" >138.360657</td>\n",
              "      <td id=\"T_2ce3f_row6_col2\" class=\"data row6 col2\" >42.498065</td>\n",
              "      <td id=\"T_2ce3f_row6_col3\" class=\"data row6 col3\" >9.000000</td>\n",
              "      <td id=\"T_2ce3f_row6_col4\" class=\"data row6 col4\" >108.000000</td>\n",
              "      <td id=\"T_2ce3f_row6_col5\" class=\"data row6 col5\" >134.000000</td>\n",
              "      <td id=\"T_2ce3f_row6_col6\" class=\"data row6 col6\" >167.000000</td>\n",
              "      <td id=\"T_2ce3f_row6_col7\" class=\"data row6 col7\" >440.000000</td>\n",
              "    </tr>\n",
              "    <tr>\n",
              "      <th id=\"T_2ce3f_level0_row7\" class=\"row_heading level0 row7\" >density</th>\n",
              "      <td id=\"T_2ce3f_row7_col0\" class=\"data row7 col0\" >4898.000000</td>\n",
              "      <td id=\"T_2ce3f_row7_col1\" class=\"data row7 col1\" >0.994027</td>\n",
              "      <td id=\"T_2ce3f_row7_col2\" class=\"data row7 col2\" >0.002991</td>\n",
              "      <td id=\"T_2ce3f_row7_col3\" class=\"data row7 col3\" >0.987110</td>\n",
              "      <td id=\"T_2ce3f_row7_col4\" class=\"data row7 col4\" >0.991723</td>\n",
              "      <td id=\"T_2ce3f_row7_col5\" class=\"data row7 col5\" >0.993740</td>\n",
              "      <td id=\"T_2ce3f_row7_col6\" class=\"data row7 col6\" >0.996100</td>\n",
              "      <td id=\"T_2ce3f_row7_col7\" class=\"data row7 col7\" >1.038980</td>\n",
              "    </tr>\n",
              "    <tr>\n",
              "      <th id=\"T_2ce3f_level0_row8\" class=\"row_heading level0 row8\" >pH</th>\n",
              "      <td id=\"T_2ce3f_row8_col0\" class=\"data row8 col0\" >4898.000000</td>\n",
              "      <td id=\"T_2ce3f_row8_col1\" class=\"data row8 col1\" >3.188267</td>\n",
              "      <td id=\"T_2ce3f_row8_col2\" class=\"data row8 col2\" >0.151001</td>\n",
              "      <td id=\"T_2ce3f_row8_col3\" class=\"data row8 col3\" >2.720000</td>\n",
              "      <td id=\"T_2ce3f_row8_col4\" class=\"data row8 col4\" >3.090000</td>\n",
              "      <td id=\"T_2ce3f_row8_col5\" class=\"data row8 col5\" >3.180000</td>\n",
              "      <td id=\"T_2ce3f_row8_col6\" class=\"data row8 col6\" >3.280000</td>\n",
              "      <td id=\"T_2ce3f_row8_col7\" class=\"data row8 col7\" >3.820000</td>\n",
              "    </tr>\n",
              "    <tr>\n",
              "      <th id=\"T_2ce3f_level0_row9\" class=\"row_heading level0 row9\" >sulphates</th>\n",
              "      <td id=\"T_2ce3f_row9_col0\" class=\"data row9 col0\" >4898.000000</td>\n",
              "      <td id=\"T_2ce3f_row9_col1\" class=\"data row9 col1\" >0.489847</td>\n",
              "      <td id=\"T_2ce3f_row9_col2\" class=\"data row9 col2\" >0.114126</td>\n",
              "      <td id=\"T_2ce3f_row9_col3\" class=\"data row9 col3\" >0.220000</td>\n",
              "      <td id=\"T_2ce3f_row9_col4\" class=\"data row9 col4\" >0.410000</td>\n",
              "      <td id=\"T_2ce3f_row9_col5\" class=\"data row9 col5\" >0.470000</td>\n",
              "      <td id=\"T_2ce3f_row9_col6\" class=\"data row9 col6\" >0.550000</td>\n",
              "      <td id=\"T_2ce3f_row9_col7\" class=\"data row9 col7\" >1.080000</td>\n",
              "    </tr>\n",
              "    <tr>\n",
              "      <th id=\"T_2ce3f_level0_row10\" class=\"row_heading level0 row10\" >alcohol</th>\n",
              "      <td id=\"T_2ce3f_row10_col0\" class=\"data row10 col0\" >4898.000000</td>\n",
              "      <td id=\"T_2ce3f_row10_col1\" class=\"data row10 col1\" >10.514267</td>\n",
              "      <td id=\"T_2ce3f_row10_col2\" class=\"data row10 col2\" >1.230621</td>\n",
              "      <td id=\"T_2ce3f_row10_col3\" class=\"data row10 col3\" >8.000000</td>\n",
              "      <td id=\"T_2ce3f_row10_col4\" class=\"data row10 col4\" >9.500000</td>\n",
              "      <td id=\"T_2ce3f_row10_col5\" class=\"data row10 col5\" >10.400000</td>\n",
              "      <td id=\"T_2ce3f_row10_col6\" class=\"data row10 col6\" >11.400000</td>\n",
              "      <td id=\"T_2ce3f_row10_col7\" class=\"data row10 col7\" >14.200000</td>\n",
              "    </tr>\n",
              "    <tr>\n",
              "      <th id=\"T_2ce3f_level0_row11\" class=\"row_heading level0 row11\" >quality</th>\n",
              "      <td id=\"T_2ce3f_row11_col0\" class=\"data row11 col0\" >4898.000000</td>\n",
              "      <td id=\"T_2ce3f_row11_col1\" class=\"data row11 col1\" >5.877909</td>\n",
              "      <td id=\"T_2ce3f_row11_col2\" class=\"data row11 col2\" >0.885639</td>\n",
              "      <td id=\"T_2ce3f_row11_col3\" class=\"data row11 col3\" >3.000000</td>\n",
              "      <td id=\"T_2ce3f_row11_col4\" class=\"data row11 col4\" >5.000000</td>\n",
              "      <td id=\"T_2ce3f_row11_col5\" class=\"data row11 col5\" >6.000000</td>\n",
              "      <td id=\"T_2ce3f_row11_col6\" class=\"data row11 col6\" >6.000000</td>\n",
              "      <td id=\"T_2ce3f_row11_col7\" class=\"data row11 col7\" >9.000000</td>\n",
              "    </tr>\n",
              "  </tbody>\n",
              "</table>\n"
            ]
          },
          "metadata": {},
          "execution_count": 7
        }
      ]
    },
    {
      "cell_type": "markdown",
      "source": [
        "Coeficiente de correlación entre el grado del vino y otras características (valor absoluto)"
      ],
      "metadata": {
        "id": "xOPkbTyRdN1N"
      }
    },
    {
      "cell_type": "code",
      "source": [
        "df.corrwith(df['quality']).abs().sort_values(ascending=False)[1:]"
      ],
      "metadata": {
        "colab": {
          "base_uri": "https://localhost:8080/"
        },
        "id": "gbbLGkcidU8i",
        "outputId": "aee0ddde-0c08-4970-a49c-3d7a2531c6fd"
      },
      "execution_count": null,
      "outputs": [
        {
          "output_type": "execute_result",
          "data": {
            "text/plain": [
              "alcohol                 0.435575\n",
              "density                 0.307123\n",
              "chlorides               0.209934\n",
              "volatile acidity        0.194723\n",
              "total sulfur dioxide    0.174737\n",
              "fixed acidity           0.113663\n",
              "pH                      0.099427\n",
              "residual sugar          0.097577\n",
              "sulphates               0.053678\n",
              "citric acid             0.009209\n",
              "free sulfur dioxide     0.008158\n",
              "dtype: float64"
            ]
          },
          "metadata": {},
          "execution_count": 10
        }
      ]
    },
    {
      "cell_type": "markdown",
      "source": [
        "Contenido de alcohol para distribución y grado de datos de alcohol\n",
        "Las graficas nos dan a entender que entre mas alcohol tengan los vinos mayor es la calidad"
      ],
      "metadata": {
        "id": "_EudCGcqehrn"
      }
    },
    {
      "cell_type": "code",
      "source": [
        "color_ = '#3eb489'\n",
        "\n",
        "fig, axes = plt.subplots(1, 2, figsize=(12, 5))\n",
        "sns.histplot(data=df, x='alcohol', ax=axes[0])\n",
        "sns.boxplot(data=df, x='quality', y='alcohol', color=color_, ax=axes[1])\n",
        "axes[0].set_title('Alcohol Distribution')\n",
        "axes[0].set_xlabel('alcohol (%)')\n",
        "axes[1].set_title('Alcohol vs Qaulity')\n",
        "axes[1].set_ylabel('alcohol (%)')\n",
        "plt.show()"
      ],
      "metadata": {
        "colab": {
          "base_uri": "https://localhost:8080/",
          "height": 350
        },
        "id": "SuMo_khgfCQh",
        "outputId": "e247f368-9aca-48c3-b81f-07f9111bae2c"
      },
      "execution_count": null,
      "outputs": [
        {
          "output_type": "display_data",
          "data": {
            "text/plain": [
              "<Figure size 864x360 with 2 Axes>"
            ],
            "image/png": "[encoded data removed]"
          },
          "metadata": {
            "needs_background": "light"
          }
        }
      ]
    },
    {
      "cell_type": "markdown",
      "source": [
        "en esta grafica podemos decir que al cuando mayor es es la calidad del alcohol, mayor seria la calidad del vino\n"
      ],
      "metadata": {
        "id": "S8SdyXdfhTjN"
      }
    },
    {
      "cell_type": "code",
      "source": [
        "sns.barplot(df['quality'], df['alcohol'])"
      ],
      "metadata": {
        "colab": {
          "base_uri": "https://localhost:8080/",
          "height": 351
        },
        "id": "27xfC30ZiCmD",
        "outputId": "0aff9219-0bc2-4163-c45a-56d1a597e9ce"
      },
      "execution_count": null,
      "outputs": [
        {
          "output_type": "stream",
          "name": "stderr",
          "text": [
            "/usr/local/lib/python3.7/dist-packages/seaborn/_decorators.py:43: FutureWarning: Pass the following variables as keyword args: x, y. From version 0.12, the only valid positional argument will be `data`, and passing other arguments without an explicit keyword will result in an error or misinterpretation.\n",
            "  FutureWarning\n"
          ]
        },
        {
          "output_type": "execute_result",
          "data": {
            "text/plain": [
              "<matplotlib.axes._subplots.AxesSubplot at 0x7fa3294a7350>"
            ]
          },
          "metadata": {},
          "execution_count": 21
        },
        {
          "output_type": "display_data",
          "data": {
            "text/plain": [
              "<Figure size 432x288 with 1 Axes>"
            ],
            "image/png": "[encoded data removed]"
          },
          "metadata": {
            "needs_background": "light"
          }
        }
      ]
    },
    {
      "cell_type": "markdown",
      "source": [
        "la mayoria de vinos tiene 9 y 10 grados de alcohol"
      ],
      "metadata": {
        "id": "-6Ue1d5FiRDs"
      }
    },
    {
      "cell_type": "code",
      "source": [
        "df.plot.scatter(y=\"chlorides\",x=\"alcohol\")"
      ],
      "metadata": {
        "id": "M1MXH3OXiR7j",
        "outputId": "d1cdee50-29a4-401b-b06c-82933643e36e",
        "colab": {
          "base_uri": "https://localhost:8080/",
          "height": 296
        }
      },
      "execution_count": null,
      "outputs": [
        {
          "output_type": "execute_result",
          "data": {
            "text/plain": [
              "<matplotlib.axes._subplots.AxesSubplot at 0x7fa32b9ede50>"
            ]
          },
          "metadata": {},
          "execution_count": 22
        },
        {
          "output_type": "display_data",
          "data": {
            "text/plain": [
              "<Figure size 432x288 with 1 Axes>"
            ],
            "image/png": "[encoded data removed]"
          },
          "metadata": {
            "needs_background": "light"
          }
        }
      ]
    }
  ]
}